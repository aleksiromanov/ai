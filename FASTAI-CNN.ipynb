{
 "cells": [
  {
   "cell_type": "markdown",
   "metadata": {},
   "source": [
    "# Training with the Fastai's CNN"
   ]
  },
  {
   "cell_type": "markdown",
   "metadata": {},
   "source": [
    "* Based on https://medium.com/deena-does-data-science/train-a-cnn-with-the-fastai-library-88712a68e4d4\n",
    "* But the goal is, instead of the canser dataset, use USD/EUR candlestick captures from https://finviz.com/forex_charts.ashx?t=EURUSD&tf=m5. Labels are HOLD, BUY and SELL.\n",
    "\n",
    "* Drawing candlestick-chart with Python: https://www.techtrekking.com/how-to-plot-simple-and-candlestick-char*t-using-python-pandas-matplotlib/"
   ]
  },
  {
   "cell_type": "code",
   "execution_count": 1,
   "metadata": {
    "scrolled": true
   },
   "outputs": [
    {
     "name": "stdout",
     "output_type": "stream",
     "text": [
      "Using Python 3.7.1\n",
      "\n",
      "Current directory /home/jovyan/work\n",
      "\n",
      "Available image data folders:\n",
      "204K\tdata/eurusd/m5/buy\n",
      "5.9M\tdata/eurusd/m5/hold\n",
      "204K\tdata/eurusd/m5/sell\n"
     ]
    }
   ],
   "source": [
    "!echo Using `python --version`\n",
    "!echo\n",
    "!echo Current directory `pwd`\n",
    "!echo\n",
    "!echo Available image data folders:\n",
    "!du -sh data/eurusd/m5/*"
   ]
  },
  {
   "cell_type": "code",
   "execution_count": 2,
   "metadata": {},
   "outputs": [],
   "source": [
    "from pathlib import Path\n",
    "from random import shuffle\n",
    "import pandas as pd"
   ]
  },
  {
   "cell_type": "markdown",
   "metadata": {},
   "source": [
    "## 1. Make a dataframe"
   ]
  },
  {
   "cell_type": "code",
   "execution_count": 14,
   "metadata": {},
   "outputs": [],
   "source": [
    "# A regular list of some images\n",
    "\n",
    "fpaths = list(Path('./data/eurusd').rglob('*.png'))\n",
    "fstems = [fp.stem for fp in fpaths]"
   ]
  },
  {
   "cell_type": "code",
   "execution_count": 15,
   "metadata": {},
   "outputs": [
    {
     "data": {
      "text/html": [
       "<div>\n",
       "<style scoped>\n",
       "    .dataframe tbody tr th:only-of-type {\n",
       "        vertical-align: middle;\n",
       "    }\n",
       "\n",
       "    .dataframe tbody tr th {\n",
       "        vertical-align: top;\n",
       "    }\n",
       "\n",
       "    .dataframe thead th {\n",
       "        text-align: right;\n",
       "    }\n",
       "</style>\n",
       "<table border=\"1\" class=\"dataframe\">\n",
       "  <thead>\n",
       "    <tr style=\"text-align: right;\">\n",
       "      <th></th>\n",
       "      <th>fpaths</th>\n",
       "      <th>fstems</th>\n",
       "    </tr>\n",
       "  </thead>\n",
       "  <tbody>\n",
       "    <tr>\n",
       "      <th>0</th>\n",
       "      <td>data/eurusd/m5/buy/1552422458.png</td>\n",
       "      <td>1552422458</td>\n",
       "    </tr>\n",
       "    <tr>\n",
       "      <th>1</th>\n",
       "      <td>data/eurusd/m5/buy/1552422481.png</td>\n",
       "      <td>1552422481</td>\n",
       "    </tr>\n",
       "    <tr>\n",
       "      <th>2</th>\n",
       "      <td>data/eurusd/m5/buy/1552431235.png</td>\n",
       "      <td>1552431235</td>\n",
       "    </tr>\n",
       "    <tr>\n",
       "      <th>3</th>\n",
       "      <td>data/eurusd/m5/buy/1552487714.png</td>\n",
       "      <td>1552487714</td>\n",
       "    </tr>\n",
       "    <tr>\n",
       "      <th>4</th>\n",
       "      <td>data/eurusd/m5/buy/1552422900.png</td>\n",
       "      <td>1552422900</td>\n",
       "    </tr>\n",
       "  </tbody>\n",
       "</table>\n",
       "</div>"
      ],
      "text/plain": [
       "                              fpaths      fstems\n",
       "0  data/eurusd/m5/buy/1552422458.png  1552422458\n",
       "1  data/eurusd/m5/buy/1552422481.png  1552422481\n",
       "2  data/eurusd/m5/buy/1552431235.png  1552431235\n",
       "3  data/eurusd/m5/buy/1552487714.png  1552487714\n",
       "4  data/eurusd/m5/buy/1552422900.png  1552422900"
      ]
     },
     "execution_count": 15,
     "metadata": {},
     "output_type": "execute_result"
    }
   ],
   "source": [
    "# Series of the same images\n",
    "\n",
    "df = pd.concat([pd.Series(fpaths, name='fpaths'), \n",
    "                pd.Series(fstems, name='fstems')], \n",
    "               axis=1)\n",
    "df.head()"
   ]
  },
  {
   "cell_type": "code",
   "execution_count": 16,
   "metadata": {},
   "outputs": [
    {
     "data": {
      "text/html": [
       "<div>\n",
       "<style scoped>\n",
       "    .dataframe tbody tr th:only-of-type {\n",
       "        vertical-align: middle;\n",
       "    }\n",
       "\n",
       "    .dataframe tbody tr th {\n",
       "        vertical-align: top;\n",
       "    }\n",
       "\n",
       "    .dataframe thead th {\n",
       "        text-align: right;\n",
       "    }\n",
       "</style>\n",
       "<table border=\"1\" class=\"dataframe\">\n",
       "  <thead>\n",
       "    <tr style=\"text-align: right;\">\n",
       "      <th></th>\n",
       "      <th>fpaths</th>\n",
       "      <th>fstems</th>\n",
       "    </tr>\n",
       "  </thead>\n",
       "  <tbody>\n",
       "    <tr>\n",
       "      <th>0</th>\n",
       "      <td>data/eurusd/m5/buy/1552422458.png</td>\n",
       "      <td>1552422458</td>\n",
       "    </tr>\n",
       "    <tr>\n",
       "      <th>1</th>\n",
       "      <td>data/eurusd/m5/buy/1552422481.png</td>\n",
       "      <td>1552422481</td>\n",
       "    </tr>\n",
       "    <tr>\n",
       "      <th>2</th>\n",
       "      <td>data/eurusd/m5/buy/1552431235.png</td>\n",
       "      <td>1552431235</td>\n",
       "    </tr>\n",
       "    <tr>\n",
       "      <th>3</th>\n",
       "      <td>data/eurusd/m5/buy/1552487714.png</td>\n",
       "      <td>1552487714</td>\n",
       "    </tr>\n",
       "    <tr>\n",
       "      <th>4</th>\n",
       "      <td>data/eurusd/m5/buy/1552422900.png</td>\n",
       "      <td>1552422900</td>\n",
       "    </tr>\n",
       "  </tbody>\n",
       "</table>\n",
       "</div>"
      ],
      "text/plain": [
       "                              fpaths      fstems\n",
       "0  data/eurusd/m5/buy/1552422458.png  1552422458\n",
       "1  data/eurusd/m5/buy/1552422481.png  1552422481\n",
       "2  data/eurusd/m5/buy/1552431235.png  1552431235\n",
       "3  data/eurusd/m5/buy/1552487714.png  1552487714\n",
       "4  data/eurusd/m5/buy/1552422900.png  1552422900"
      ]
     },
     "execution_count": 16,
     "metadata": {},
     "output_type": "execute_result"
    }
   ],
   "source": [
    "# Convert 'fpaths' column from the object-type the string \n",
    "\n",
    "df['fpaths'] = df['fpaths'].apply(lambda x: str(x))\n",
    "df.head()"
   ]
  },
  {
   "cell_type": "code",
   "execution_count": 17,
   "metadata": {},
   "outputs": [
    {
     "data": {
      "text/html": [
       "<div>\n",
       "<style scoped>\n",
       "    .dataframe tbody tr th:only-of-type {\n",
       "        vertical-align: middle;\n",
       "    }\n",
       "\n",
       "    .dataframe tbody tr th {\n",
       "        vertical-align: top;\n",
       "    }\n",
       "\n",
       "    .dataframe thead th {\n",
       "        text-align: right;\n",
       "    }\n",
       "</style>\n",
       "<table border=\"1\" class=\"dataframe\">\n",
       "  <thead>\n",
       "    <tr style=\"text-align: right;\">\n",
       "      <th></th>\n",
       "      <th>fpaths</th>\n",
       "      <th>fstems</th>\n",
       "      <th>label</th>\n",
       "    </tr>\n",
       "  </thead>\n",
       "  <tbody>\n",
       "    <tr>\n",
       "      <th>0</th>\n",
       "      <td>data/eurusd/m5/buy/1552422458.png</td>\n",
       "      <td>1552422458</td>\n",
       "      <td>buy</td>\n",
       "    </tr>\n",
       "    <tr>\n",
       "      <th>1</th>\n",
       "      <td>data/eurusd/m5/buy/1552422481.png</td>\n",
       "      <td>1552422481</td>\n",
       "      <td>buy</td>\n",
       "    </tr>\n",
       "    <tr>\n",
       "      <th>2</th>\n",
       "      <td>data/eurusd/m5/buy/1552431235.png</td>\n",
       "      <td>1552431235</td>\n",
       "      <td>buy</td>\n",
       "    </tr>\n",
       "    <tr>\n",
       "      <th>3</th>\n",
       "      <td>data/eurusd/m5/buy/1552487714.png</td>\n",
       "      <td>1552487714</td>\n",
       "      <td>buy</td>\n",
       "    </tr>\n",
       "    <tr>\n",
       "      <th>4</th>\n",
       "      <td>data/eurusd/m5/buy/1552422900.png</td>\n",
       "      <td>1552422900</td>\n",
       "      <td>buy</td>\n",
       "    </tr>\n",
       "  </tbody>\n",
       "</table>\n",
       "</div>"
      ],
      "text/plain": [
       "                              fpaths      fstems label\n",
       "0  data/eurusd/m5/buy/1552422458.png  1552422458   buy\n",
       "1  data/eurusd/m5/buy/1552422481.png  1552422481   buy\n",
       "2  data/eurusd/m5/buy/1552431235.png  1552431235   buy\n",
       "3  data/eurusd/m5/buy/1552487714.png  1552487714   buy\n",
       "4  data/eurusd/m5/buy/1552422900.png  1552422900   buy"
      ]
     },
     "execution_count": 17,
     "metadata": {},
     "output_type": "execute_result"
    }
   ],
   "source": [
    "# Make *label* column\n",
    "\n",
    "df['label'] = df['fpaths'].str.split('/', expand=True)[3]\n",
    "df.head()"
   ]
  },
  {
   "cell_type": "code",
   "execution_count": 18,
   "metadata": {},
   "outputs": [
    {
     "name": "stdout",
     "output_type": "stream",
     "text": [
      ",fpaths,fstems,label\r\n",
      "0,data/eurusd/m5/buy/1552422458.png,1552422458,buy\r\n",
      "1,data/eurusd/m5/buy/1552422481.png,1552422481,buy\r\n",
      "2,data/eurusd/m5/buy/1552431235.png,1552431235,buy\r\n",
      "3,data/eurusd/m5/buy/1552487714.png,1552487714,buy\r\n",
      "4,data/eurusd/m5/buy/1552422900.png,1552422900,buy\r\n",
      "5,data/eurusd/m5/buy/1552422203.png,1552422203,buy\r\n",
      "6,data/eurusd/m5/buy/1552506821.png,1552506821,buy\r\n",
      "7,data/eurusd/m5/buy/1552425422.png,1552425422,buy\r\n",
      "8,data/eurusd/m5/buy/1552498055.png,1552498055,buy\r\n"
     ]
    }
   ],
   "source": [
    "# Export the dataframe to a csv file\n",
    "\n",
    "df.to_csv('/tmp/mydataframe.csv')\n",
    "!head /tmp/mydataframe.csv"
   ]
  },
  {
   "cell_type": "code",
   "execution_count": 19,
   "metadata": {},
   "outputs": [
    {
     "data": {
      "text/html": [
       "<div>\n",
       "<style scoped>\n",
       "    .dataframe tbody tr th:only-of-type {\n",
       "        vertical-align: middle;\n",
       "    }\n",
       "\n",
       "    .dataframe tbody tr th {\n",
       "        vertical-align: top;\n",
       "    }\n",
       "\n",
       "    .dataframe thead th {\n",
       "        text-align: right;\n",
       "    }\n",
       "</style>\n",
       "<table border=\"1\" class=\"dataframe\">\n",
       "  <thead>\n",
       "    <tr style=\"text-align: right;\">\n",
       "      <th></th>\n",
       "      <th>Unnamed: 0</th>\n",
       "      <th>fpaths</th>\n",
       "      <th>fstems</th>\n",
       "      <th>label</th>\n",
       "    </tr>\n",
       "  </thead>\n",
       "  <tbody>\n",
       "    <tr>\n",
       "      <th>0</th>\n",
       "      <td>0</td>\n",
       "      <td>data/eurusd/m5/buy/1552422458.png</td>\n",
       "      <td>1552422458</td>\n",
       "      <td>buy</td>\n",
       "    </tr>\n",
       "    <tr>\n",
       "      <th>1</th>\n",
       "      <td>1</td>\n",
       "      <td>data/eurusd/m5/buy/1552422481.png</td>\n",
       "      <td>1552422481</td>\n",
       "      <td>buy</td>\n",
       "    </tr>\n",
       "    <tr>\n",
       "      <th>2</th>\n",
       "      <td>2</td>\n",
       "      <td>data/eurusd/m5/buy/1552431235.png</td>\n",
       "      <td>1552431235</td>\n",
       "      <td>buy</td>\n",
       "    </tr>\n",
       "    <tr>\n",
       "      <th>3</th>\n",
       "      <td>3</td>\n",
       "      <td>data/eurusd/m5/buy/1552487714.png</td>\n",
       "      <td>1552487714</td>\n",
       "      <td>buy</td>\n",
       "    </tr>\n",
       "    <tr>\n",
       "      <th>4</th>\n",
       "      <td>4</td>\n",
       "      <td>data/eurusd/m5/buy/1552422900.png</td>\n",
       "      <td>1552422900</td>\n",
       "      <td>buy</td>\n",
       "    </tr>\n",
       "  </tbody>\n",
       "</table>\n",
       "</div>"
      ],
      "text/plain": [
       "   Unnamed: 0                             fpaths      fstems label\n",
       "0           0  data/eurusd/m5/buy/1552422458.png  1552422458   buy\n",
       "1           1  data/eurusd/m5/buy/1552422481.png  1552422481   buy\n",
       "2           2  data/eurusd/m5/buy/1552431235.png  1552431235   buy\n",
       "3           3  data/eurusd/m5/buy/1552487714.png  1552487714   buy\n",
       "4           4  data/eurusd/m5/buy/1552422900.png  1552422900   buy"
      ]
     },
     "execution_count": 19,
     "metadata": {},
     "output_type": "execute_result"
    }
   ],
   "source": [
    "# Import the csv to the dataframe\n",
    "\n",
    "df = pd.read_csv('/tmp/mydataframe.csv')\n",
    "df.head()"
   ]
  },
  {
   "cell_type": "markdown",
   "metadata": {},
   "source": [
    "## 2. Make a databunch (a set of datasets and dataloaders)"
   ]
  },
  {
   "cell_type": "code",
   "execution_count": 20,
   "metadata": {},
   "outputs": [
    {
     "data": {
      "text/plain": [
       "ImageDataBunch;\n",
       "\n",
       "Train: LabelList (4694 items)\n",
       "x: ImageList\n",
       "Image (3, 49, 49),Image (3, 49, 49),Image (3, 49, 49),Image (3, 49, 49),Image (3, 49, 49)\n",
       "y: CategoryList\n",
       "buy,buy,buy,buy,buy\n",
       "Path: .;\n",
       "\n",
       "Valid: LabelList (1173 items)\n",
       "x: ImageList\n",
       "Image (3, 49, 49),Image (3, 49, 49),Image (3, 49, 49),Image (3, 49, 49),Image (3, 49, 49)\n",
       "y: CategoryList\n",
       "hold,hold,hold,hold,hold\n",
       "Path: .;\n",
       "\n",
       "Test: None"
      ]
     },
     "execution_count": 20,
     "metadata": {},
     "output_type": "execute_result"
    }
   ],
   "source": [
    "from fastai import *\n",
    "from fastai.vision import *\n",
    "from fastai.vision.image import *\n",
    "from fastai.vision.data import  * \n",
    "\n",
    "tfms = get_transforms(do_flip=False, \n",
    "                      flip_vert=False, \n",
    "                      max_rotate=0., \n",
    "                      max_zoom=1.0, \n",
    "                      max_lighting=0.2,\n",
    "                      max_warp=0., \n",
    "                      p_affine=0.75, \n",
    "                      p_lighting=0.75)\n",
    "\n",
    "data = ImageList\\\n",
    "    .from_df(path='.', df=df, cols='fpaths')\\\n",
    "    .split_by_rand_pct(valid_pct=0.2, seed=10)\\\n",
    "    .label_from_df(cols='label')\\\n",
    "    .transform(tfms=tfms, size=49, padding_mode='reflection')\\\n",
    "    .databunch(bs=128, num_workers=4)\n",
    "\n",
    "data"
   ]
  },
  {
   "cell_type": "code",
   "execution_count": 21,
   "metadata": {
    "scrolled": true
   },
   "outputs": [
    {
     "data": {
      "image/png": "[encoded data removed]",
      "text/plain": [
       "<Figure size 1152x1152 with 9 Axes>"
      ]
     },
     "metadata": {
      "needs_background": "light"
     },
     "output_type": "display_data"
    }
   ],
   "source": [
    "data.show_batch(rows=3, figsize=(16, 16), hide_axis=False)"
   ]
  },
  {
   "cell_type": "code",
   "execution_count": 11,
   "metadata": {},
   "outputs": [],
   "source": [
    "# normalization\n",
    "\n",
    "#data = data.normalize()"
   ]
  }
 ],
 "metadata": {
  "kernelspec": {
   "display_name": "Python 3",
   "language": "python",
   "name": "python3"
  },
  "language_info": {
   "codemirror_mode": {
    "name": "ipython",
    "version": 3
   },
   "file_extension": ".py",
   "mimetype": "text/x-python",
   "name": "python",
   "nbconvert_exporter": "python",
   "pygments_lexer": "ipython3",
   "version": "3.7.1"
  }
 },
 "nbformat": 4,
 "nbformat_minor": 2
}
