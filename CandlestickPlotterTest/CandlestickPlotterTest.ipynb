{
 "cells": [
  {
   "cell_type": "code",
   "execution_count": 53,
   "metadata": {},
   "outputs": [
    {
     "name": "stdout",
     "output_type": "stream",
     "text": [
      "Wrote to /home/jovyan/work/CandlestickPlotterTest/package.json:\r\n",
      "\r\n",
      "{\r\n",
      "  \"name\": \"CandlestickPlotterTest\",\r\n",
      "  \"version\": \"1.0.0\",\r\n",
      "  \"main\": \"index.js\",\r\n",
      "  \"scripts\": {\r\n",
      "    \"test\": \"echo \\\"Error: no test specified\\\" && exit 1\"\r\n",
      "  },\r\n",
      "  \"keywords\": [],\r\n",
      "  \"author\": \"\",\r\n",
      "  \"license\": \"ISC\",\r\n",
      "  \"dependencies\": {\r\n",
      "    \"candlestick-plotter\": \"git+https://git@github.com/aleksiromanov/candlestick-plotter.git\"\r\n",
      "  },\r\n",
      "  \"devDependencies\": {\r\n",
      "    \"babel-cli\": \"^6.26.0\",\r\n",
      "    \"babel-preset-es2015\": \"^6.24.1\"\r\n",
      "  },\r\n",
      "  \"description\": \"\"\r\n",
      "}\r\n",
      "\r\n",
      "\r\n"
     ]
    }
   ],
   "source": [
    "!npm init --yes"
   ]
  },
  {
   "cell_type": "code",
   "execution_count": 67,
   "metadata": {},
   "outputs": [
    {
     "name": "stdout",
     "output_type": "stream",
     "text": [
      "\u001b[K\u001b[?25h\u001b[37;40mnpm\u001b[0m \u001b[0m\u001b[30;43mWARN\u001b[0m\u001b[35m\u001b[0m CandlestickPlotterTest@1.0.0 No description-plotter@1.0.0~po\u001b[0m\u001b[K\u001b[K\n",
      "\u001b[0m\u001b[37;40mnpm\u001b[0m \u001b[0m\u001b[30;43mWARN\u001b[0m\u001b[35m\u001b[0m CandlestickPlotterTest@1.0.0 No repository field.\n",
      "\u001b[0m\u001b[37;40mnpm\u001b[0m \u001b[0m\u001b[30;43mWARN\u001b[0m \u001b[0m\u001b[35moptional\u001b[0m SKIPPING OPTIONAL DEPENDENCY: fsevents@1.2.7 (node_modules/fsevents):\n",
      "\u001b[0m\u001b[37;40mnpm\u001b[0m \u001b[0m\u001b[30;43mWARN\u001b[0m \u001b[0m\u001b[35mnotsup\u001b[0m SKIPPING OPTIONAL DEPENDENCY: Unsupported platform for fsevents@1.2.7: wanted {\"os\":\"darwin\",\"arch\":\"any\"} (current: {\"os\":\"linux\",\"arch\":\"x64\"})\n",
      "\u001b[0m\n",
      "+ candlestick-plotter@1.0.0\n",
      "updated 1 package and audited 3239 packages in 10.287s\n",
      "found 1 \u001b[1mlow\u001b[0m severity vulnerability\n",
      "  run `npm audit fix` to fix them, or `npm audit` for details\n",
      "\u001b[K\u001b[?25h\u001b[37;40mnpm\u001b[0m \u001b[0m\u001b[30;43mWARN\u001b[0m\u001b[35m\u001b[0m CandlestickPlotterTest@1.0.0 No descriptionagick@0.1.8~posti\u001b[0m\u001b[K\u001b[K\n",
      "\u001b[0m\u001b[37;40mnpm\u001b[0m \u001b[0m\u001b[30;43mWARN\u001b[0m\u001b[35m\u001b[0m CandlestickPlotterTest@1.0.0 No repository field.\n",
      "\u001b[0m\u001b[37;40mnpm\u001b[0m \u001b[0m\u001b[30;43mWARN\u001b[0m \u001b[0m\u001b[35moptional\u001b[0m SKIPPING OPTIONAL DEPENDENCY: fsevents@1.2.7 (node_modules/fsevents):\n",
      "\u001b[0m\u001b[37;40mnpm\u001b[0m \u001b[0m\u001b[30;43mWARN\u001b[0m \u001b[0m\u001b[35mnotsup\u001b[0m SKIPPING OPTIONAL DEPENDENCY: Unsupported platform for fsevents@1.2.7: wanted {\"os\":\"darwin\",\"arch\":\"any\"} (current: {\"os\":\"linux\",\"arch\":\"x64\"})\n",
      "\u001b[0m\n",
      "+ node-imagemagick@0.1.8\n",
      "added 1 package from 2 contributors and audited 3240 packages in 4.792s\n",
      "found 1 \u001b[1mlow\u001b[0m severity vulnerability\n",
      "  run `npm audit fix` to fix them, or `npm audit` for details\n"
     ]
    }
   ],
   "source": [
    "!npm install -S git+https://git@github.com/aleksiromanov/candlestick-plotter.git\n",
    "#!npm install --save-dev node-imagemagick"
   ]
  },
  {
   "cell_type": "code",
   "execution_count": 47,
   "metadata": {},
   "outputs": [
    {
     "name": "stdout",
     "output_type": "stream",
     "text": [
      "\u001b[K\u001b[?25h\u001b[37;40mnpm\u001b[0m \u001b[0m\u001b[30;43mWARN\u001b[0m \u001b[0m\u001b[35mdeprecated\u001b[0m babel-preset-es2015@6.24.1: 🙌  Thanks for using Babel: we recommend using babel-preset-env now: please read babeljs.io/env to update! \n",
      "\u001b[K\u001b[?25h\u001b[37;40mnpm\u001b[0m \u001b[0m\u001b[30;43mWARN\u001b[0m\u001b[35m\u001b[0m CandlestickPlotterTest@1.0.0 No descriptiont-es2015@6.24.1~p\u001b[0m\u001b[K\n",
      "\u001b[0m\u001b[37;40mnpm\u001b[0m \u001b[0m\u001b[30;43mWARN\u001b[0m\u001b[35m\u001b[0m CandlestickPlotterTest@1.0.0 No repository field.\n",
      "\u001b[0m\u001b[37;40mnpm\u001b[0m \u001b[0m\u001b[30;43mWARN\u001b[0m \u001b[0m\u001b[35moptional\u001b[0m SKIPPING OPTIONAL DEPENDENCY: fsevents@1.2.7 (node_modules/fsevents):\n",
      "\u001b[0m\u001b[37;40mnpm\u001b[0m \u001b[0m\u001b[30;43mWARN\u001b[0m \u001b[0m\u001b[35mnotsup\u001b[0m SKIPPING OPTIONAL DEPENDENCY: Unsupported platform for fsevents@1.2.7: wanted {\"os\":\"darwin\",\"arch\":\"any\"} (current: {\"os\":\"linux\",\"arch\":\"x64\"})\n",
      "\u001b[0m\n",
      "+ babel-cli@6.26.0\n",
      "+ babel-preset-es2015@6.24.1\n",
      "updated 2 packages and audited 3239 packages in 12.116s\n",
      "found 1 \u001b[1mlow\u001b[0m severity vulnerability\n",
      "  run `npm audit fix` to fix them, or `npm audit` for details\n"
     ]
    }
   ],
   "source": [
    "!npm install --save-dev babel-cli babel-preset-es2015"
   ]
  },
  {
   "cell_type": "code",
   "execution_count": 64,
   "metadata": {},
   "outputs": [
    {
     "name": "stdout",
     "output_type": "stream",
     "text": [
      "61.8KiB 0:00:12 [4.83KiB/s] [            <=>                                   ]\n"
     ]
    }
   ],
   "source": [
    "!echo \"import cp from 'candlestick-plotter'; new cp().run('ohlc-1000.csv');\"|./node_modules/.bin/babel --presets es2015|node|pv>/dev/null"
   ]
  },
  {
   "cell_type": "code",
   "execution_count": 68,
   "metadata": {},
   "outputs": [
    {
     "name": "stdout",
     "output_type": "stream",
     "text": [
      "860K\timages/B\r\n",
      "2.3M\timages/H\r\n",
      "872K\timages/S\r\n"
     ]
    }
   ],
   "source": [
    "!for i in *.png; do convert $i -resize 100x100 -quality 100 resized-$i; done\n",
    "!rm -rf images\n",
    "!mkdir -p images/B images/S images/H\n",
    "!for i in B S H; do cp resized-*-$i.png images/$i ; done\n",
    "!du -hs images/*"
   ]
  },
  {
   "cell_type": "code",
   "execution_count": null,
   "metadata": {},
   "outputs": [],
   "source": [
    "!for i in *.png; do convert $i -resize 100x100 -quality 100 resized-$i; done"
   ]
  }
 ],
 "metadata": {
  "kernelspec": {
   "display_name": "Python 3",
   "language": "python",
   "name": "python3"
  },
  "language_info": {
   "codemirror_mode": {
    "name": "ipython",
    "version": 3
   },
   "file_extension": ".py",
   "mimetype": "text/x-python",
   "name": "python",
   "nbconvert_exporter": "python",
   "pygments_lexer": "ipython3",
   "version": "3.7.1"
  }
 },
 "nbformat": 4,
 "nbformat_minor": 2
}
