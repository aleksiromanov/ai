{
 "cells": [
  {
   "cell_type": "code",
   "execution_count": 18,
   "metadata": {},
   "outputs": [
    {
     "name": "stdout",
     "output_type": "stream",
     "text": [
      "[master (root-commit) f238cfd] Initial commit of the work\n",
      " 14 files changed, 7823 insertions(+)\n",
      " create mode 100644 .ipynb_checkpoints/Untitled-checkpoint.ipynb\n",
      " create mode 100644 .ipynb_checkpoints/Untitled1-checkpoint.ipynb\n",
      " create mode 100644 Untitled.ipynb\n",
      " create mode 100644 Untitled1.ipynb\n",
      " create mode 100644 data/filenames.csv\n",
      " create mode 100644 data/url_csv/chiffon.csv\n",
      " create mode 100644 data/url_csv/denim.csv\n",
      " create mode 100644 data/url_csv/faux_fur.csv\n",
      " create mode 100644 data/url_csv/faux_leather.csv\n",
      " create mode 100644 data/url_csv/lace.csv\n",
      " create mode 100644 data/url_csv/linen.csv\n",
      " create mode 100644 data/url_csv/satin.csv\n",
      " create mode 100644 data/url_csv/sequin.csv\n",
      " create mode 100644 data/url_csv/velvet.csv\n"
     ]
    }
   ],
   "source": [
    "!git config --global user.email \"aleksi.romanov@google.com\"\n",
    "!git config --global user.name \"Aleksi Romanov\"\n",
    "!git add data/url_csv/\n",
    "!git add .ipynb_checkpoints/ Untitled.ipynb Untitled1.ipynb data/filenames.csv\n",
    "!git commit -m \"Initial commit of the work\" .\n",
    "\n"
   ]
  },
  {
   "cell_type": "code",
   "execution_count": 20,
   "metadata": {},
   "outputs": [
    {
     "name": "stdout",
     "output_type": "stream",
     "text": [
      "\u001b[33mcommit f238cfd4ed9fece3eedb7e5465112da951da31ef\u001b[m\u001b[33m (\u001b[m\u001b[1;36mHEAD -> \u001b[m\u001b[1;32mmaster\u001b[m\u001b[33m)\u001b[m\r\n",
      "Author: Aleksi Romanov <aleksi.romanov@google.com>\r\n",
      "Date:   Sat Mar 9 23:27:28 2019 +0000\r\n",
      "\r\n",
      "    Initial commit of the work\r\n"
     ]
    }
   ],
   "source": [
    "!git log"
   ]
  },
  {
   "cell_type": "code",
   "execution_count": 29,
   "metadata": {},
   "outputs": [],
   "source": [
    "!cp /tmp/HISTDATA_COM_ASCII_EURUSD_M1201902.zip ."
   ]
  },
  {
   "cell_type": "code",
   "execution_count": 31,
   "metadata": {},
   "outputs": [
    {
     "name": "stdout",
     "output_type": "stream",
     "text": [
      "data  HISTDATA_COM_ASCII_EURUSD_M1201902.zip  Untitled1.ipynb  Untitled.ipynb\r\n",
      "Archive:  HISTDATA_COM_ASCII_EURUSD_M1201902.zip\r\n",
      "  inflating: DAT_ASCII_EURUSD_M1_201902.csv  \r\n",
      "  inflating: DAT_ASCII_EURUSD_M1_201902.txt  \r\n"
     ]
    }
   ],
   "source": [
    "!ls && unzip HISTDATA_COM_ASCII_EURUSD_M1201902.zip"
   ]
  },
  {
   "cell_type": "code",
   "execution_count": 32,
   "metadata": {},
   "outputs": [],
   "source": [
    "!rm HISTDATA_COM_ASCII_EURUSD_M1201902.zip"
   ]
  },
  {
   "cell_type": "code",
   "execution_count": 35,
   "metadata": {},
   "outputs": [],
   "source": [
    "!mv DAT_ASCII_EURUSD_M1_201902.csv EURUSD.csv"
   ]
  },
  {
   "cell_type": "code",
   "execution_count": 38,
   "metadata": {
    "scrolled": true
   },
   "outputs": [
    {
     "name": "stdout",
     "output_type": "stream",
     "text": [
      "Requirement already satisfied: matplotlib in /opt/conda/lib/python3.7/site-packages (3.0.3)\n",
      "Requirement already satisfied: numpy>=1.10.0 in /opt/conda/lib/python3.7/site-packages (from matplotlib) (1.15.4)\n",
      "Requirement already satisfied: cycler>=0.10 in /opt/conda/lib/python3.7/site-packages (from matplotlib) (0.10.0)\n",
      "Requirement already satisfied: kiwisolver>=1.0.1 in /opt/conda/lib/python3.7/site-packages (from matplotlib) (1.0.1)\n",
      "Requirement already satisfied: pyparsing!=2.0.4,!=2.1.2,!=2.1.6,>=2.0.1 in /opt/conda/lib/python3.7/site-packages (from matplotlib) (2.3.1)\n",
      "Requirement already satisfied: python-dateutil>=2.1 in /opt/conda/lib/python3.7/site-packages (from matplotlib) (2.8.0)\n",
      "Requirement already satisfied: six in /opt/conda/lib/python3.7/site-packages (from cycler>=0.10->matplotlib) (1.12.0)\n",
      "Requirement already satisfied: setuptools in /opt/conda/lib/python3.7/site-packages (from kiwisolver>=1.0.1->matplotlib) (40.8.0)\n"
     ]
    }
   ],
   "source": [
    "!pip install matplotlib\n",
    "# !pip install mpl_finance\n",
    "import datetime\n",
    "import numpy as np\n",
    "import pandas as pd\n",
    "import matplotlib.pyplot as plt\n",
    "import seaborn as sns\n",
    "from IPython.core.display import display"
   ]
  },
  {
   "cell_type": "code",
   "execution_count": 48,
   "metadata": {},
   "outputs": [
    {
     "name": "stdout",
     "output_type": "stream",
     "text": [
      "20190201 000000;1.144200;1.144280;1.144180;1.144180;0\r\n",
      "20190201 000100;1.144180;1.144250;1.144140;1.144140;0\r\n",
      "20190201 000200;1.144140;1.144150;1.144090;1.144100;0\r\n",
      "20190201 000300;1.144100;1.144110;1.144090;1.144110;0\r\n",
      "20190201 000400;1.144110;1.144140;1.144090;1.144100;0\r\n",
      "20190201 000500;1.144100;1.144100;1.144030;1.144070;0\r\n",
      "20190201 000600;1.144070;1.144070;1.143980;1.143990;0\r\n",
      "20190201 000700;1.143990;1.144070;1.143970;1.144020;0\r\n",
      "20190201 000800;1.144030;1.144060;1.144030;1.144050;0\r\n",
      "20190201 000900;1.144060;1.144060;1.144010;1.144030;0\r\n"
     ]
    }
   ],
   "source": [
    "!head EURUSD.csv"
   ]
  },
  {
   "cell_type": "markdown",
   "metadata": {},
   "source": [
    "**Fields**: \n",
    "DateTime Stamp;Bar OPEN Bid Quote;Bar HIGH Bid Quote;Bar LOW Bid Quote;Bar CLOSE Bid Quote;Volume\n"
   ]
  },
  {
   "cell_type": "code",
   "execution_count": 114,
   "metadata": {},
   "outputs": [],
   "source": [
    "df = pd.read_csv(\"EURUSD.csv\", names=[\"DATE\", \"TIMESTAMP\", \"OPEN\", \"HIGH\", \"LOW\", \"CLOSE\", \"VOLUME\"], engine='python', sep=' |;').head(200)"
   ]
  },
  {
   "cell_type": "code",
   "execution_count": 122,
   "metadata": {},
   "outputs": [
    {
     "data": {
      "text/html": [
       "<div>\n",
       "<style scoped>\n",
       "    .dataframe tbody tr th:only-of-type {\n",
       "        vertical-align: middle;\n",
       "    }\n",
       "\n",
       "    .dataframe tbody tr th {\n",
       "        vertical-align: top;\n",
       "    }\n",
       "\n",
       "    .dataframe thead th {\n",
       "        text-align: right;\n",
       "    }\n",
       "</style>\n",
       "<table border=\"1\" class=\"dataframe\">\n",
       "  <thead>\n",
       "    <tr style=\"text-align: right;\">\n",
       "      <th></th>\n",
       "      <th>DATE</th>\n",
       "      <th>TIMESTAMP</th>\n",
       "      <th>OPEN</th>\n",
       "      <th>HIGH</th>\n",
       "      <th>LOW</th>\n",
       "      <th>CLOSE</th>\n",
       "      <th>VOLUME</th>\n",
       "      <th>NCLOSE</th>\n",
       "      <th>LABEL</th>\n",
       "    </tr>\n",
       "  </thead>\n",
       "  <tbody>\n",
       "    <tr>\n",
       "      <th>0</th>\n",
       "      <td>20190201</td>\n",
       "      <td>0</td>\n",
       "      <td>1.14420</td>\n",
       "      <td>1.14428</td>\n",
       "      <td>1.14418</td>\n",
       "      <td>1.14418</td>\n",
       "      <td>0</td>\n",
       "      <td>NaN</td>\n",
       "      <td>0</td>\n",
       "    </tr>\n",
       "    <tr>\n",
       "      <th>1</th>\n",
       "      <td>20190201</td>\n",
       "      <td>100</td>\n",
       "      <td>1.14418</td>\n",
       "      <td>1.14425</td>\n",
       "      <td>1.14414</td>\n",
       "      <td>1.14414</td>\n",
       "      <td>0</td>\n",
       "      <td>-0.072727</td>\n",
       "      <td>0</td>\n",
       "    </tr>\n",
       "    <tr>\n",
       "      <th>2</th>\n",
       "      <td>20190201</td>\n",
       "      <td>200</td>\n",
       "      <td>1.14414</td>\n",
       "      <td>1.14415</td>\n",
       "      <td>1.14409</td>\n",
       "      <td>1.14410</td>\n",
       "      <td>0</td>\n",
       "      <td>-0.072727</td>\n",
       "      <td>1</td>\n",
       "    </tr>\n",
       "    <tr>\n",
       "      <th>3</th>\n",
       "      <td>20190201</td>\n",
       "      <td>300</td>\n",
       "      <td>1.14410</td>\n",
       "      <td>1.14411</td>\n",
       "      <td>1.14409</td>\n",
       "      <td>1.14411</td>\n",
       "      <td>0</td>\n",
       "      <td>0.018182</td>\n",
       "      <td>0</td>\n",
       "    </tr>\n",
       "    <tr>\n",
       "      <th>4</th>\n",
       "      <td>20190201</td>\n",
       "      <td>400</td>\n",
       "      <td>1.14411</td>\n",
       "      <td>1.14414</td>\n",
       "      <td>1.14409</td>\n",
       "      <td>1.14410</td>\n",
       "      <td>0</td>\n",
       "      <td>-0.018182</td>\n",
       "      <td>0</td>\n",
       "    </tr>\n",
       "    <tr>\n",
       "      <th>5</th>\n",
       "      <td>20190201</td>\n",
       "      <td>500</td>\n",
       "      <td>1.14410</td>\n",
       "      <td>1.14410</td>\n",
       "      <td>1.14403</td>\n",
       "      <td>1.14407</td>\n",
       "      <td>0</td>\n",
       "      <td>-0.054545</td>\n",
       "      <td>0</td>\n",
       "    </tr>\n",
       "    <tr>\n",
       "      <th>6</th>\n",
       "      <td>20190201</td>\n",
       "      <td>600</td>\n",
       "      <td>1.14407</td>\n",
       "      <td>1.14407</td>\n",
       "      <td>1.14398</td>\n",
       "      <td>1.14399</td>\n",
       "      <td>0</td>\n",
       "      <td>-0.145455</td>\n",
       "      <td>1</td>\n",
       "    </tr>\n",
       "    <tr>\n",
       "      <th>7</th>\n",
       "      <td>20190201</td>\n",
       "      <td>700</td>\n",
       "      <td>1.14399</td>\n",
       "      <td>1.14407</td>\n",
       "      <td>1.14397</td>\n",
       "      <td>1.14402</td>\n",
       "      <td>0</td>\n",
       "      <td>0.054545</td>\n",
       "      <td>1</td>\n",
       "    </tr>\n",
       "    <tr>\n",
       "      <th>8</th>\n",
       "      <td>20190201</td>\n",
       "      <td>800</td>\n",
       "      <td>1.14403</td>\n",
       "      <td>1.14406</td>\n",
       "      <td>1.14403</td>\n",
       "      <td>1.14405</td>\n",
       "      <td>0</td>\n",
       "      <td>0.054545</td>\n",
       "      <td>0</td>\n",
       "    </tr>\n",
       "    <tr>\n",
       "      <th>9</th>\n",
       "      <td>20190201</td>\n",
       "      <td>900</td>\n",
       "      <td>1.14406</td>\n",
       "      <td>1.14406</td>\n",
       "      <td>1.14401</td>\n",
       "      <td>1.14403</td>\n",
       "      <td>0</td>\n",
       "      <td>-0.036364</td>\n",
       "      <td>1</td>\n",
       "    </tr>\n",
       "  </tbody>\n",
       "</table>\n",
       "</div>"
      ],
      "text/plain": [
       "       DATE  TIMESTAMP     OPEN     HIGH      LOW    CLOSE  VOLUME    NCLOSE  \\\n",
       "0  20190201          0  1.14420  1.14428  1.14418  1.14418       0       NaN   \n",
       "1  20190201        100  1.14418  1.14425  1.14414  1.14414       0 -0.072727   \n",
       "2  20190201        200  1.14414  1.14415  1.14409  1.14410       0 -0.072727   \n",
       "3  20190201        300  1.14410  1.14411  1.14409  1.14411       0  0.018182   \n",
       "4  20190201        400  1.14411  1.14414  1.14409  1.14410       0 -0.018182   \n",
       "5  20190201        500  1.14410  1.14410  1.14403  1.14407       0 -0.054545   \n",
       "6  20190201        600  1.14407  1.14407  1.14398  1.14399       0 -0.145455   \n",
       "7  20190201        700  1.14399  1.14407  1.14397  1.14402       0  0.054545   \n",
       "8  20190201        800  1.14403  1.14406  1.14403  1.14405       0  0.054545   \n",
       "9  20190201        900  1.14406  1.14406  1.14401  1.14403       0 -0.036364   \n",
       "\n",
       "   LABEL  \n",
       "0      0  \n",
       "1      0  \n",
       "2      1  \n",
       "3      0  \n",
       "4      0  \n",
       "5      0  \n",
       "6      1  \n",
       "7      1  \n",
       "8      0  \n",
       "9      1  "
      ]
     },
     "execution_count": 122,
     "metadata": {},
     "output_type": "execute_result"
    }
   ],
   "source": [
    "df.head(10)"
   ]
  },
  {
   "cell_type": "code",
   "execution_count": 115,
   "metadata": {},
   "outputs": [
    {
     "data": {
      "text/plain": [
       "<matplotlib.axes._subplots.AxesSubplot at 0x7fb010d4f668>"
      ]
     },
     "execution_count": 115,
     "metadata": {},
     "output_type": "execute_result"
    },
    {
     "data": {
      "image/png": "[encoded data removed]",
      "text/plain": [
       "<Figure size 432x288 with 1 Axes>"
      ]
     },
     "metadata": {
      "needs_background": "light"
     },
     "output_type": "display_data"
    }
   ],
   "source": [
    "df.plot(x='TIMESTAMP', y=['HIGH','LOW'])"
   ]
  },
  {
   "cell_type": "code",
   "execution_count": 116,
   "metadata": {},
   "outputs": [
    {
     "data": {
      "text/plain": [
       "<matplotlib.axes._subplots.AxesSubplot at 0x7fb0132ef6d8>"
      ]
     },
     "execution_count": 116,
     "metadata": {},
     "output_type": "execute_result"
    },
    {
     "data": {
      "image/png": "[encoded data removed]",
      "text/plain": [
       "<Figure size 720x288 with 1 Axes>"
      ]
     },
     "metadata": {
      "needs_background": "light"
     },
     "output_type": "display_data"
    }
   ],
   "source": [
    "# Normalize aclose value\n",
    "# We use this value to train model\n",
    "\n",
    "df['NCLOSE'] = df['CLOSE'] - df['CLOSE'].shift(1)\n",
    "return_range = df['NCLOSE'].max() - df['NCLOSE'].min()\n",
    "df['NCLOSE'] = df['NCLOSE'] / return_range\n",
    "\n",
    "df.plot(x='TIMESTAMP', y='NCLOSE', figsize=(10,4))"
   ]
  },
  {
   "cell_type": "code",
   "execution_count": 121,
   "metadata": {},
   "outputs": [
    {
     "data": {
      "text/html": [
       "<div>\n",
       "<style scoped>\n",
       "    .dataframe tbody tr th:only-of-type {\n",
       "        vertical-align: middle;\n",
       "    }\n",
       "\n",
       "    .dataframe tbody tr th {\n",
       "        vertical-align: top;\n",
       "    }\n",
       "\n",
       "    .dataframe thead th {\n",
       "        text-align: right;\n",
       "    }\n",
       "</style>\n",
       "<table border=\"1\" class=\"dataframe\">\n",
       "  <thead>\n",
       "    <tr style=\"text-align: right;\">\n",
       "      <th></th>\n",
       "      <th>DATE</th>\n",
       "      <th>TIMESTAMP</th>\n",
       "      <th>OPEN</th>\n",
       "      <th>HIGH</th>\n",
       "      <th>LOW</th>\n",
       "      <th>CLOSE</th>\n",
       "      <th>VOLUME</th>\n",
       "      <th>NCLOSE</th>\n",
       "      <th>LABEL</th>\n",
       "    </tr>\n",
       "  </thead>\n",
       "  <tbody>\n",
       "    <tr>\n",
       "      <th>0</th>\n",
       "      <td>20190201</td>\n",
       "      <td>0</td>\n",
       "      <td>1.14420</td>\n",
       "      <td>1.14428</td>\n",
       "      <td>1.14418</td>\n",
       "      <td>1.14418</td>\n",
       "      <td>0</td>\n",
       "      <td>NaN</td>\n",
       "      <td>0</td>\n",
       "    </tr>\n",
       "    <tr>\n",
       "      <th>1</th>\n",
       "      <td>20190201</td>\n",
       "      <td>100</td>\n",
       "      <td>1.14418</td>\n",
       "      <td>1.14425</td>\n",
       "      <td>1.14414</td>\n",
       "      <td>1.14414</td>\n",
       "      <td>0</td>\n",
       "      <td>-0.072727</td>\n",
       "      <td>0</td>\n",
       "    </tr>\n",
       "    <tr>\n",
       "      <th>2</th>\n",
       "      <td>20190201</td>\n",
       "      <td>200</td>\n",
       "      <td>1.14414</td>\n",
       "      <td>1.14415</td>\n",
       "      <td>1.14409</td>\n",
       "      <td>1.14410</td>\n",
       "      <td>0</td>\n",
       "      <td>-0.072727</td>\n",
       "      <td>1</td>\n",
       "    </tr>\n",
       "    <tr>\n",
       "      <th>3</th>\n",
       "      <td>20190201</td>\n",
       "      <td>300</td>\n",
       "      <td>1.14410</td>\n",
       "      <td>1.14411</td>\n",
       "      <td>1.14409</td>\n",
       "      <td>1.14411</td>\n",
       "      <td>0</td>\n",
       "      <td>0.018182</td>\n",
       "      <td>0</td>\n",
       "    </tr>\n",
       "    <tr>\n",
       "      <th>4</th>\n",
       "      <td>20190201</td>\n",
       "      <td>400</td>\n",
       "      <td>1.14411</td>\n",
       "      <td>1.14414</td>\n",
       "      <td>1.14409</td>\n",
       "      <td>1.14410</td>\n",
       "      <td>0</td>\n",
       "      <td>-0.018182</td>\n",
       "      <td>0</td>\n",
       "    </tr>\n",
       "    <tr>\n",
       "      <th>5</th>\n",
       "      <td>20190201</td>\n",
       "      <td>500</td>\n",
       "      <td>1.14410</td>\n",
       "      <td>1.14410</td>\n",
       "      <td>1.14403</td>\n",
       "      <td>1.14407</td>\n",
       "      <td>0</td>\n",
       "      <td>-0.054545</td>\n",
       "      <td>0</td>\n",
       "    </tr>\n",
       "    <tr>\n",
       "      <th>6</th>\n",
       "      <td>20190201</td>\n",
       "      <td>600</td>\n",
       "      <td>1.14407</td>\n",
       "      <td>1.14407</td>\n",
       "      <td>1.14398</td>\n",
       "      <td>1.14399</td>\n",
       "      <td>0</td>\n",
       "      <td>-0.145455</td>\n",
       "      <td>1</td>\n",
       "    </tr>\n",
       "    <tr>\n",
       "      <th>7</th>\n",
       "      <td>20190201</td>\n",
       "      <td>700</td>\n",
       "      <td>1.14399</td>\n",
       "      <td>1.14407</td>\n",
       "      <td>1.14397</td>\n",
       "      <td>1.14402</td>\n",
       "      <td>0</td>\n",
       "      <td>0.054545</td>\n",
       "      <td>1</td>\n",
       "    </tr>\n",
       "    <tr>\n",
       "      <th>8</th>\n",
       "      <td>20190201</td>\n",
       "      <td>800</td>\n",
       "      <td>1.14403</td>\n",
       "      <td>1.14406</td>\n",
       "      <td>1.14403</td>\n",
       "      <td>1.14405</td>\n",
       "      <td>0</td>\n",
       "      <td>0.054545</td>\n",
       "      <td>0</td>\n",
       "    </tr>\n",
       "    <tr>\n",
       "      <th>9</th>\n",
       "      <td>20190201</td>\n",
       "      <td>900</td>\n",
       "      <td>1.14406</td>\n",
       "      <td>1.14406</td>\n",
       "      <td>1.14401</td>\n",
       "      <td>1.14403</td>\n",
       "      <td>0</td>\n",
       "      <td>-0.036364</td>\n",
       "      <td>1</td>\n",
       "    </tr>\n",
       "  </tbody>\n",
       "</table>\n",
       "</div>"
      ],
      "text/plain": [
       "       DATE  TIMESTAMP     OPEN     HIGH      LOW    CLOSE  VOLUME    NCLOSE  \\\n",
       "0  20190201          0  1.14420  1.14428  1.14418  1.14418       0       NaN   \n",
       "1  20190201        100  1.14418  1.14425  1.14414  1.14414       0 -0.072727   \n",
       "2  20190201        200  1.14414  1.14415  1.14409  1.14410       0 -0.072727   \n",
       "3  20190201        300  1.14410  1.14411  1.14409  1.14411       0  0.018182   \n",
       "4  20190201        400  1.14411  1.14414  1.14409  1.14410       0 -0.018182   \n",
       "5  20190201        500  1.14410  1.14410  1.14403  1.14407       0 -0.054545   \n",
       "6  20190201        600  1.14407  1.14407  1.14398  1.14399       0 -0.145455   \n",
       "7  20190201        700  1.14399  1.14407  1.14397  1.14402       0  0.054545   \n",
       "8  20190201        800  1.14403  1.14406  1.14403  1.14405       0  0.054545   \n",
       "9  20190201        900  1.14406  1.14406  1.14401  1.14403       0 -0.036364   \n",
       "\n",
       "   LABEL  \n",
       "0      0  \n",
       "1      0  \n",
       "2      1  \n",
       "3      0  \n",
       "4      0  \n",
       "5      0  \n",
       "6      1  \n",
       "7      1  \n",
       "8      0  \n",
       "9      1  "
      ]
     },
     "execution_count": 121,
     "metadata": {},
     "output_type": "execute_result"
    }
   ],
   "source": [
    "# Make label, 1 as rising price, 0 as falling price\n",
    "\n",
    "df['LABEL'] = df['NCLOSE'].shift(-1)\n",
    "df['LABEL'] = df['LABEL'].apply(lambda x: 1 if x>0.0 else 0)\n",
    "# df.dropna(inplace=True)\n",
    "df.head(10)"
   ]
  },
  {
   "cell_type": "code",
   "execution_count": 124,
   "metadata": {},
   "outputs": [
    {
     "name": "stdout",
     "output_type": "stream",
     "text": [
      "(140, 60)\n",
      "(140,)\n",
      "% of Class0 : 0.485714\n",
      "% of Class1 : 0.514286\n"
     ]
    }
   ],
   "source": [
    "# Make training dataset\n",
    "\n",
    "n_features = 60 # number of features\n",
    "\n",
    "train_x = np.array([]).reshape([-1,n_features])\n",
    "train_y = np.array([]).reshape([-1,1])\n",
    "for index, row in df.iterrows():\n",
    "    i = df.index.get_loc(index)\n",
    "    if i<n_features:\n",
    "        continue\n",
    "    \n",
    "    _x = np.array(df[i-n_features+1:i+1]['NCLOSE']).T.reshape([1, -1])\n",
    "    _y = df.loc[i]['LABEL']\n",
    "    train_x = np.vstack((train_x, _x))\n",
    "    train_y = np.vstack((train_y, _y))\n",
    "train_y = train_y.reshape([-1])\n",
    "print(train_x.shape)\n",
    "print(train_y.shape)\n",
    "print('%% of Class0 : %f' % (np.count_nonzero(train_y == 0)/float(len(train_y))))\n",
    "print('%% of Class1 : %f' % (np.count_nonzero(train_y == 1)/float(len(train_y))))\n"
   ]
  },
  {
   "cell_type": "code",
   "execution_count": 125,
   "metadata": {},
   "outputs": [
    {
     "name": "stdout",
     "output_type": "stream",
     "text": [
      "Testing Accuracy: 0.857143\n"
     ]
    }
   ],
   "source": [
    "# Define Model and fit\n",
    "# Here we use 95% of data for training, and last 5% for testing\n",
    "\n",
    "from sklearn.ensemble import GradientBoostingClassifier\n",
    "clf = GradientBoostingClassifier(random_state=0, learning_rate=0.01, n_estimators=10000)\n",
    "\n",
    "train_len = int(len(train_x)*0.95)\n",
    "clf.fit(train_x[:train_len], train_y[:train_len])\n",
    "\n",
    "accuracy = clf.score(train_x[train_len:], train_y[train_len:])\n",
    "print('Testing Accuracy: %f' % accuracy)"
   ]
  },
  {
   "cell_type": "code",
   "execution_count": 126,
   "metadata": {},
   "outputs": [
    {
     "data": {
      "text/html": [
       "<div>\n",
       "<style scoped>\n",
       "    .dataframe tbody tr th:only-of-type {\n",
       "        vertical-align: middle;\n",
       "    }\n",
       "\n",
       "    .dataframe tbody tr th {\n",
       "        vertical-align: top;\n",
       "    }\n",
       "\n",
       "    .dataframe thead th {\n",
       "        text-align: right;\n",
       "    }\n",
       "</style>\n",
       "<table border=\"1\" class=\"dataframe\">\n",
       "  <thead>\n",
       "    <tr style=\"text-align: right;\">\n",
       "      <th></th>\n",
       "      <th>return</th>\n",
       "      <th>label</th>\n",
       "      <th>pred</th>\n",
       "      <th>won</th>\n",
       "      <th>pnl</th>\n",
       "      <th>equity</th>\n",
       "    </tr>\n",
       "  </thead>\n",
       "  <tbody>\n",
       "    <tr>\n",
       "      <th>1</th>\n",
       "      <td>-0.00004</td>\n",
       "      <td>0.0</td>\n",
       "      <td>0.0</td>\n",
       "      <td>True</td>\n",
       "      <td>0.4</td>\n",
       "      <td>1.7</td>\n",
       "    </tr>\n",
       "    <tr>\n",
       "      <th>2</th>\n",
       "      <td>-0.00003</td>\n",
       "      <td>0.0</td>\n",
       "      <td>0.0</td>\n",
       "      <td>True</td>\n",
       "      <td>0.3</td>\n",
       "      <td>2.0</td>\n",
       "    </tr>\n",
       "    <tr>\n",
       "      <th>3</th>\n",
       "      <td>-0.00009</td>\n",
       "      <td>0.0</td>\n",
       "      <td>1.0</td>\n",
       "      <td>False</td>\n",
       "      <td>-0.9</td>\n",
       "      <td>1.1</td>\n",
       "    </tr>\n",
       "    <tr>\n",
       "      <th>4</th>\n",
       "      <td>-0.00013</td>\n",
       "      <td>0.0</td>\n",
       "      <td>0.0</td>\n",
       "      <td>True</td>\n",
       "      <td>1.3</td>\n",
       "      <td>2.4</td>\n",
       "    </tr>\n",
       "    <tr>\n",
       "      <th>5</th>\n",
       "      <td>-0.00001</td>\n",
       "      <td>0.0</td>\n",
       "      <td>0.0</td>\n",
       "      <td>True</td>\n",
       "      <td>0.1</td>\n",
       "      <td>2.5</td>\n",
       "    </tr>\n",
       "  </tbody>\n",
       "</table>\n",
       "</div>"
      ],
      "text/plain": [
       "    return  label  pred    won  pnl  equity\n",
       "1 -0.00004    0.0   0.0   True  0.4     1.7\n",
       "2 -0.00003    0.0   0.0   True  0.3     2.0\n",
       "3 -0.00009    0.0   1.0  False -0.9     1.1\n",
       "4 -0.00013    0.0   0.0   True  1.3     2.4\n",
       "5 -0.00001    0.0   0.0   True  0.1     2.5"
      ]
     },
     "metadata": {},
     "output_type": "display_data"
    },
    {
     "data": {
      "image/png": "[encoded data removed]",
      "text/plain": [
       "<Figure size 720x288 with 1 Axes>"
      ]
     },
     "metadata": {
      "needs_background": "light"
     },
     "output_type": "display_data"
    }
   ],
   "source": [
    "# Predict test data\n",
    "\n",
    "pred = clf.predict(train_x[train_len:])\n",
    "\n",
    "\n",
    "# Calculate equity..\n",
    "\n",
    "contracts  = 10000.0\n",
    "commission = 0.0\n",
    "\n",
    "\n",
    "df_trade = pd.DataFrame(train_x[train_len:,-1], columns=['return'])\n",
    "df_trade['label']  = train_y[train_len:]\n",
    "df_trade['pred']   = pred\n",
    "df_trade['won']    = df_trade['label'] == df_trade['pred']\n",
    "df_trade['return'] = df_trade['return'].shift(-1) * return_range\n",
    "df_trade.drop(df_trade.index[len(df_trade)-1], inplace=True)\n",
    "\n",
    "def calc_profit(row):\n",
    "    if row['won']:\n",
    "        return abs(row['return'])*contracts - commission\n",
    "    else:\n",
    "        return -abs(row['return'])*contracts - commission\n",
    "\n",
    "df_trade['pnl'] = df_trade.apply(lambda row: calc_profit(row), axis=1)\n",
    "df_trade['equity'] = df_trade['pnl'].cumsum()\n",
    "\n",
    "display(df_trade.tail())\n",
    "df_trade.plot(y='equity', figsize=(10,4), title='Backtest with $10000 initial capital')\n",
    "plt.xlabel('Trades')\n",
    "plt.ylabel('Equity (USD)')\n",
    "for r in df_trade.iterrows():\n",
    "    if r[1]['won']:\n",
    "        plt.axvline(x=r[0], linewidth=0.5, alpha=0.8, color='g')\n",
    "    else:\n",
    "        plt.axvline(x=r[0], linewidth=0.5, alpha=0.8, color='r')"
   ]
  }
 ],
 "metadata": {
  "kernelspec": {
   "display_name": "Python 3",
   "language": "python",
   "name": "python3"
  },
  "language_info": {
   "codemirror_mode": {
    "name": "ipython",
    "version": 3
   },
   "file_extension": ".py",
   "mimetype": "text/x-python",
   "name": "python",
   "nbconvert_exporter": "python",
   "pygments_lexer": "ipython3",
   "version": "3.7.1"
  }
 },
 "nbformat": 4,
 "nbformat_minor": 2
}
