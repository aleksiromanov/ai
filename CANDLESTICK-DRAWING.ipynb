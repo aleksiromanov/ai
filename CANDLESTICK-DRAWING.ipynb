{
 "cells": [
  {
   "cell_type": "markdown",
   "metadata": {},
   "source": [
    "# Given a historical trading data file, plot a candlestick chart "
   ]
  },
  {
   "cell_type": "code",
   "execution_count": 18,
   "metadata": {
    "scrolled": true
   },
   "outputs": [
    {
     "name": "stdout",
     "output_type": "stream",
     "text": [
      "Requirement already satisfied: mpl_finance in /opt/conda/lib/python3.7/site-packages (0.10.0)\n",
      "Requirement already satisfied: matplotlib in /opt/conda/lib/python3.7/site-packages (from mpl_finance) (3.0.3)\n",
      "Requirement already satisfied: numpy>=1.10.0 in /opt/conda/lib/python3.7/site-packages (from matplotlib->mpl_finance) (1.15.4)\n",
      "Requirement already satisfied: cycler>=0.10 in /opt/conda/lib/python3.7/site-packages (from matplotlib->mpl_finance) (0.10.0)\n",
      "Requirement already satisfied: kiwisolver>=1.0.1 in /opt/conda/lib/python3.7/site-packages (from matplotlib->mpl_finance) (1.0.1)\n",
      "Requirement already satisfied: pyparsing!=2.0.4,!=2.1.2,!=2.1.6,>=2.0.1 in /opt/conda/lib/python3.7/site-packages (from matplotlib->mpl_finance) (2.3.1)\n",
      "Requirement already satisfied: python-dateutil>=2.1 in /opt/conda/lib/python3.7/site-packages (from matplotlib->mpl_finance) (2.8.0)\n",
      "Requirement already satisfied: six in /opt/conda/lib/python3.7/site-packages (from cycler>=0.10->matplotlib->mpl_finance) (1.12.0)\n",
      "Requirement already satisfied: setuptools in /opt/conda/lib/python3.7/site-packages (from kiwisolver>=1.0.1->matplotlib->mpl_finance) (40.8.0)\n"
     ]
    }
   ],
   "source": [
    "!pip install mpl_finance"
   ]
  },
  {
   "cell_type": "code",
   "execution_count": 20,
   "metadata": {},
   "outputs": [],
   "source": [
    "import pandas as pd\n",
    "import matplotlib.pyplot as plt\n",
    "import datetime\n",
    "from mpl_finance import candlestick_ohlc\n",
    "import matplotlib.dates as mdates"
   ]
  },
  {
   "cell_type": "code",
   "execution_count": 55,
   "metadata": {},
   "outputs": [],
   "source": [
    "CFG_DATA_FILE       = './data/forex/EURUSD.csv'\n",
    "CFG_DATA_COLUMNS    = [\"TIMESTAMP\", \"OPEN\", \"HIGH\", \"LOW\", \"CLOSE\", \"VOLUME\"]\n",
    "CFG_DATA_FINAL_COLS = [\"DATE\", \"OPEN\", \"HIGH\", \"LOW\", \"CLOSE\"]"
   ]
  },
  {
   "cell_type": "code",
   "execution_count": 56,
   "metadata": {},
   "outputs": [
    {
     "data": {
      "text/html": [
       "<div>\n",
       "<style scoped>\n",
       "    .dataframe tbody tr th:only-of-type {\n",
       "        vertical-align: middle;\n",
       "    }\n",
       "\n",
       "    .dataframe tbody tr th {\n",
       "        vertical-align: top;\n",
       "    }\n",
       "\n",
       "    .dataframe thead th {\n",
       "        text-align: right;\n",
       "    }\n",
       "</style>\n",
       "<table border=\"1\" class=\"dataframe\">\n",
       "  <thead>\n",
       "    <tr style=\"text-align: right;\">\n",
       "      <th></th>\n",
       "      <th>TIMESTAMP</th>\n",
       "      <th>OPEN</th>\n",
       "      <th>HIGH</th>\n",
       "      <th>LOW</th>\n",
       "      <th>CLOSE</th>\n",
       "      <th>VOLUME</th>\n",
       "    </tr>\n",
       "  </thead>\n",
       "  <tbody>\n",
       "    <tr>\n",
       "      <th>20190201</th>\n",
       "      <td>0</td>\n",
       "      <td>1.14420</td>\n",
       "      <td>1.14428</td>\n",
       "      <td>1.14418</td>\n",
       "      <td>1.14418</td>\n",
       "      <td>0</td>\n",
       "    </tr>\n",
       "    <tr>\n",
       "      <th>20190201</th>\n",
       "      <td>100</td>\n",
       "      <td>1.14418</td>\n",
       "      <td>1.14425</td>\n",
       "      <td>1.14414</td>\n",
       "      <td>1.14414</td>\n",
       "      <td>0</td>\n",
       "    </tr>\n",
       "    <tr>\n",
       "      <th>20190201</th>\n",
       "      <td>200</td>\n",
       "      <td>1.14414</td>\n",
       "      <td>1.14415</td>\n",
       "      <td>1.14409</td>\n",
       "      <td>1.14410</td>\n",
       "      <td>0</td>\n",
       "    </tr>\n",
       "    <tr>\n",
       "      <th>20190201</th>\n",
       "      <td>300</td>\n",
       "      <td>1.14410</td>\n",
       "      <td>1.14411</td>\n",
       "      <td>1.14409</td>\n",
       "      <td>1.14411</td>\n",
       "      <td>0</td>\n",
       "    </tr>\n",
       "  </tbody>\n",
       "</table>\n",
       "</div>"
      ],
      "text/plain": [
       "          TIMESTAMP     OPEN     HIGH      LOW    CLOSE  VOLUME\n",
       "20190201          0  1.14420  1.14428  1.14418  1.14418       0\n",
       "20190201        100  1.14418  1.14425  1.14414  1.14414       0\n",
       "20190201        200  1.14414  1.14415  1.14409  1.14410       0\n",
       "20190201        300  1.14410  1.14411  1.14409  1.14411       0"
      ]
     },
     "execution_count": 56,
     "metadata": {},
     "output_type": "execute_result"
    }
   ],
   "source": [
    "df = pd.read_csv(CFG_DATA_FILE, engine='python', sep=' |;', names=CFG_DATA_COLUMNS).head(1000)\n",
    "df.head(4)"
   ]
  },
  {
   "cell_type": "code",
   "execution_count": 57,
   "metadata": {},
   "outputs": [
    {
     "data": {
      "text/html": [
       "<div>\n",
       "<style scoped>\n",
       "    .dataframe tbody tr th:only-of-type {\n",
       "        vertical-align: middle;\n",
       "    }\n",
       "\n",
       "    .dataframe tbody tr th {\n",
       "        vertical-align: top;\n",
       "    }\n",
       "\n",
       "    .dataframe thead th {\n",
       "        text-align: right;\n",
       "    }\n",
       "</style>\n",
       "<table border=\"1\" class=\"dataframe\">\n",
       "  <thead>\n",
       "    <tr style=\"text-align: right;\">\n",
       "      <th></th>\n",
       "      <th>TIMESTAMP</th>\n",
       "      <th>OPEN</th>\n",
       "      <th>HIGH</th>\n",
       "      <th>LOW</th>\n",
       "      <th>CLOSE</th>\n",
       "      <th>VOLUME</th>\n",
       "      <th>DATE</th>\n",
       "    </tr>\n",
       "  </thead>\n",
       "  <tbody>\n",
       "    <tr>\n",
       "      <th>20190201</th>\n",
       "      <td>0</td>\n",
       "      <td>1.14420</td>\n",
       "      <td>1.14428</td>\n",
       "      <td>1.14418</td>\n",
       "      <td>1.14418</td>\n",
       "      <td>0</td>\n",
       "      <td>719163.0</td>\n",
       "    </tr>\n",
       "    <tr>\n",
       "      <th>20190201</th>\n",
       "      <td>100</td>\n",
       "      <td>1.14418</td>\n",
       "      <td>1.14425</td>\n",
       "      <td>1.14414</td>\n",
       "      <td>1.14414</td>\n",
       "      <td>0</td>\n",
       "      <td>719163.0</td>\n",
       "    </tr>\n",
       "    <tr>\n",
       "      <th>20190201</th>\n",
       "      <td>200</td>\n",
       "      <td>1.14414</td>\n",
       "      <td>1.14415</td>\n",
       "      <td>1.14409</td>\n",
       "      <td>1.14410</td>\n",
       "      <td>0</td>\n",
       "      <td>719163.0</td>\n",
       "    </tr>\n",
       "    <tr>\n",
       "      <th>20190201</th>\n",
       "      <td>300</td>\n",
       "      <td>1.14410</td>\n",
       "      <td>1.14411</td>\n",
       "      <td>1.14409</td>\n",
       "      <td>1.14411</td>\n",
       "      <td>0</td>\n",
       "      <td>719163.0</td>\n",
       "    </tr>\n",
       "  </tbody>\n",
       "</table>\n",
       "</div>"
      ],
      "text/plain": [
       "          TIMESTAMP     OPEN     HIGH      LOW    CLOSE  VOLUME      DATE\n",
       "20190201          0  1.14420  1.14428  1.14418  1.14418       0  719163.0\n",
       "20190201        100  1.14418  1.14425  1.14414  1.14414       0  719163.0\n",
       "20190201        200  1.14414  1.14415  1.14409  1.14410       0  719163.0\n",
       "20190201        300  1.14410  1.14411  1.14409  1.14411       0  719163.0"
      ]
     },
     "execution_count": 57,
     "metadata": {},
     "output_type": "execute_result"
    }
   ],
   "source": [
    "# Converting date to pandas datetime format\n",
    "df['DATE'] = pd.to_datetime(df.TIMESTAMP)\n",
    "df[\"DATE\"] = df[\"DATE\"].apply(mdates.date2num)\n",
    "df.head(4)"
   ]
  },
  {
   "cell_type": "code",
   "execution_count": 58,
   "metadata": {},
   "outputs": [
    {
     "data": {
      "text/html": [
       "<div>\n",
       "<style scoped>\n",
       "    .dataframe tbody tr th:only-of-type {\n",
       "        vertical-align: middle;\n",
       "    }\n",
       "\n",
       "    .dataframe tbody tr th {\n",
       "        vertical-align: top;\n",
       "    }\n",
       "\n",
       "    .dataframe thead th {\n",
       "        text-align: right;\n",
       "    }\n",
       "</style>\n",
       "<table border=\"1\" class=\"dataframe\">\n",
       "  <thead>\n",
       "    <tr style=\"text-align: right;\">\n",
       "      <th></th>\n",
       "      <th>OPEN</th>\n",
       "      <th>HIGH</th>\n",
       "      <th>LOW</th>\n",
       "      <th>CLOSE</th>\n",
       "      <th>DATE</th>\n",
       "    </tr>\n",
       "  </thead>\n",
       "  <tbody>\n",
       "    <tr>\n",
       "      <th>20190201</th>\n",
       "      <td>1.14420</td>\n",
       "      <td>1.14428</td>\n",
       "      <td>1.14418</td>\n",
       "      <td>1.14418</td>\n",
       "      <td>719163.0</td>\n",
       "    </tr>\n",
       "    <tr>\n",
       "      <th>20190201</th>\n",
       "      <td>1.14418</td>\n",
       "      <td>1.14425</td>\n",
       "      <td>1.14414</td>\n",
       "      <td>1.14414</td>\n",
       "      <td>719163.0</td>\n",
       "    </tr>\n",
       "    <tr>\n",
       "      <th>20190201</th>\n",
       "      <td>1.14414</td>\n",
       "      <td>1.14415</td>\n",
       "      <td>1.14409</td>\n",
       "      <td>1.14410</td>\n",
       "      <td>719163.0</td>\n",
       "    </tr>\n",
       "    <tr>\n",
       "      <th>20190201</th>\n",
       "      <td>1.14410</td>\n",
       "      <td>1.14411</td>\n",
       "      <td>1.14409</td>\n",
       "      <td>1.14411</td>\n",
       "      <td>719163.0</td>\n",
       "    </tr>\n",
       "  </tbody>\n",
       "</table>\n",
       "</div>"
      ],
      "text/plain": [
       "             OPEN     HIGH      LOW    CLOSE      DATE\n",
       "20190201  1.14420  1.14428  1.14418  1.14418  719163.0\n",
       "20190201  1.14418  1.14425  1.14414  1.14414  719163.0\n",
       "20190201  1.14414  1.14415  1.14409  1.14410  719163.0\n",
       "20190201  1.14410  1.14411  1.14409  1.14411  719163.0"
      ]
     },
     "execution_count": 58,
     "metadata": {},
     "output_type": "execute_result"
    }
   ],
   "source": [
    "df.drop(['TIMESTAMP', 'VOLUME'], axis=1, inplace=True)\n",
    "df.head(4)"
   ]
  },
  {
   "cell_type": "code",
   "execution_count": 59,
   "metadata": {},
   "outputs": [
    {
     "data": {
      "text/html": [
       "<div>\n",
       "<style scoped>\n",
       "    .dataframe tbody tr th:only-of-type {\n",
       "        vertical-align: middle;\n",
       "    }\n",
       "\n",
       "    .dataframe tbody tr th {\n",
       "        vertical-align: top;\n",
       "    }\n",
       "\n",
       "    .dataframe thead th {\n",
       "        text-align: right;\n",
       "    }\n",
       "</style>\n",
       "<table border=\"1\" class=\"dataframe\">\n",
       "  <thead>\n",
       "    <tr style=\"text-align: right;\">\n",
       "      <th></th>\n",
       "      <th>DATE</th>\n",
       "      <th>OPEN</th>\n",
       "      <th>HIGH</th>\n",
       "      <th>LOW</th>\n",
       "      <th>CLOSE</th>\n",
       "    </tr>\n",
       "  </thead>\n",
       "  <tbody>\n",
       "    <tr>\n",
       "      <th>20190201</th>\n",
       "      <td>719163.0</td>\n",
       "      <td>1.14420</td>\n",
       "      <td>1.14428</td>\n",
       "      <td>1.14418</td>\n",
       "      <td>1.14418</td>\n",
       "    </tr>\n",
       "    <tr>\n",
       "      <th>20190201</th>\n",
       "      <td>719163.0</td>\n",
       "      <td>1.14418</td>\n",
       "      <td>1.14425</td>\n",
       "      <td>1.14414</td>\n",
       "      <td>1.14414</td>\n",
       "    </tr>\n",
       "    <tr>\n",
       "      <th>20190201</th>\n",
       "      <td>719163.0</td>\n",
       "      <td>1.14414</td>\n",
       "      <td>1.14415</td>\n",
       "      <td>1.14409</td>\n",
       "      <td>1.14410</td>\n",
       "    </tr>\n",
       "    <tr>\n",
       "      <th>20190201</th>\n",
       "      <td>719163.0</td>\n",
       "      <td>1.14410</td>\n",
       "      <td>1.14411</td>\n",
       "      <td>1.14409</td>\n",
       "      <td>1.14411</td>\n",
       "    </tr>\n",
       "    <tr>\n",
       "      <th>20190201</th>\n",
       "      <td>719163.0</td>\n",
       "      <td>1.14411</td>\n",
       "      <td>1.14414</td>\n",
       "      <td>1.14409</td>\n",
       "      <td>1.14410</td>\n",
       "    </tr>\n",
       "  </tbody>\n",
       "</table>\n",
       "</div>"
      ],
      "text/plain": [
       "              DATE     OPEN     HIGH      LOW    CLOSE\n",
       "20190201  719163.0  1.14420  1.14428  1.14418  1.14418\n",
       "20190201  719163.0  1.14418  1.14425  1.14414  1.14414\n",
       "20190201  719163.0  1.14414  1.14415  1.14409  1.14410\n",
       "20190201  719163.0  1.14410  1.14411  1.14409  1.14411\n",
       "20190201  719163.0  1.14411  1.14414  1.14409  1.14410"
      ]
     },
     "execution_count": 59,
     "metadata": {},
     "output_type": "execute_result"
    }
   ],
   "source": [
    "# ensuring only equity series is considered\n",
    "#df = df.loc[df['Series'] == 'EQ']\n",
    "\n",
    "\n",
    "# Creating required data in new DataFrame OHLC\n",
    "ohlc= df[CFG_DATA_FINAL_COLS].copy()\n",
    "ohlc.head()"
   ]
  },
  {
   "cell_type": "code",
   "execution_count": 60,
   "metadata": {},
   "outputs": [
    {
     "data": {
      "image/png": "[encoded data removed]",
      "text/plain": [
       "<Figure size 720x360 with 1 Axes>"
      ]
     },
     "metadata": {
      "needs_background": "light"
     },
     "output_type": "display_data"
    }
   ],
   "source": [
    "# In case you want to check for shorter timespan\n",
    "# ohlc =ohlc.tail(60)\n",
    "\n",
    "f1, ax = plt.subplots(figsize = (10,5))"
   ]
  },
  {
   "cell_type": "code",
   "execution_count": 61,
   "metadata": {},
   "outputs": [
    {
     "data": {
      "text/plain": [
       "'Axes'"
      ]
     },
     "execution_count": 61,
     "metadata": {},
     "output_type": "execute_result"
    }
   ],
   "source": [
    "ax.aname"
   ]
  },
  {
   "cell_type": "code",
   "execution_count": 62,
   "metadata": {},
   "outputs": [],
   "source": [
    "# plot the candlesticks\n",
    "candlestick_ohlc(ax, ohlc.values, width=.6, colorup='green', colordown='red')\n",
    "ax.xaxis.set_major_formatter(mdates.DateFormatter('%Y-%m'))"
   ]
  },
  {
   "cell_type": "code",
   "execution_count": 64,
   "metadata": {},
   "outputs": [
    {
     "data": {
      "text/plain": [
       "<Figure size 432x288 with 0 Axes>"
      ]
     },
     "metadata": {},
     "output_type": "display_data"
    }
   ],
   "source": [
    "# Saving the image\n",
    "plt.savefig('EURUSD.png')"
   ]
  },
  {
   "cell_type": "code",
   "execution_count": 53,
   "metadata": {},
   "outputs": [],
   "source": [
    "# Plot the image\n",
    "plt.show()\n"
   ]
  }
 ],
 "metadata": {
  "kernelspec": {
   "display_name": "Python 3",
   "language": "python",
   "name": "python3"
  },
  "language_info": {
   "codemirror_mode": {
    "name": "ipython",
    "version": 3
   },
   "file_extension": ".py",
   "mimetype": "text/x-python",
   "name": "python",
   "nbconvert_exporter": "python",
   "pygments_lexer": "ipython3",
   "version": "3.7.1"
  }
 },
 "nbformat": 4,
 "nbformat_minor": 2
}
