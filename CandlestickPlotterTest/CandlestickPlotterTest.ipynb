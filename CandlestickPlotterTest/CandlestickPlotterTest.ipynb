{
 "cells": [
  {
   "cell_type": "code",
   "execution_count": 1,
   "metadata": {},
   "outputs": [
    {
     "name": "stdout",
     "output_type": "stream",
     "text": [
      "Wrote to /home/jovyan/work/CandlestickPlotterTest/package.json:\r\n",
      "\r\n",
      "{\r\n",
      "  \"name\": \"jovyan\",\r\n",
      "  \"version\": \"1.0.0\",\r\n",
      "  \"main\": \"index.js\",\r\n",
      "  \"scripts\": {\r\n",
      "    \"test\": \"echo \\\"Error: no test specified\\\" && exit 1\"\r\n",
      "  },\r\n",
      "  \"keywords\": [],\r\n",
      "  \"author\": \"\",\r\n",
      "  \"license\": \"ISC\",\r\n",
      "  \"dependencies\": {\r\n",
      "    \"babel-cli\": \"^6.26.0\",\r\n",
      "    \"candlestick-plotter\": \"git+https://git@github.com/aleksiromanov/candlestick-plotter.git\"\r\n",
      "  },\r\n",
      "  \"devDependencies\": {},\r\n",
      "  \"description\": \"\"\r\n",
      "}\r\n",
      "\r\n",
      "\r\n"
     ]
    }
   ],
   "source": [
    "!npm init --yes"
   ]
  },
  {
   "cell_type": "code",
   "execution_count": 2,
   "metadata": {},
   "outputs": [
    {
     "name": "stdout",
     "output_type": "stream",
     "text": [
      "\u001b[K\u001b[?25h\u001b[37;40mnpm\u001b[0m \u001b[0m\u001b[30;43mWARN\u001b[0m\u001b[35m\u001b[0m jovyan@1.0.0 No description\u001b[0m candlestick-plotter@1.0.0~po\u001b[0m\u001b[K\u001b[K\n",
      "\u001b[0m\u001b[37;40mnpm\u001b[0m \u001b[0m\u001b[30;43mWARN\u001b[0m\u001b[35m\u001b[0m jovyan@1.0.0 No repository field.\n",
      "\u001b[0m\u001b[37;40mnpm\u001b[0m \u001b[0m\u001b[30;43mWARN\u001b[0m \u001b[0m\u001b[35moptional\u001b[0m SKIPPING OPTIONAL DEPENDENCY: fsevents@1.2.7 (node_modules/fsevents):\n",
      "\u001b[0m\u001b[37;40mnpm\u001b[0m \u001b[0m\u001b[30;43mWARN\u001b[0m \u001b[0m\u001b[35mnotsup\u001b[0m SKIPPING OPTIONAL DEPENDENCY: Unsupported platform for fsevents@1.2.7: wanted {\"os\":\"darwin\",\"arch\":\"any\"} (current: {\"os\":\"linux\",\"arch\":\"x64\"})\n",
      "\u001b[0m\n",
      "+ candlestick-plotter@1.0.0\n",
      "updated 1 package and audited 1741 packages in 7.707s\n",
      "found 1 \u001b[1mlow\u001b[0m severity vulnerability\n",
      "  run `npm audit fix` to fix them, or `npm audit` for details\n"
     ]
    }
   ],
   "source": [
    "!npm install -S git+https://git@github.com/aleksiromanov/candlestick-plotter.git"
   ]
  },
  {
   "cell_type": "code",
   "execution_count": 8,
   "metadata": {},
   "outputs": [
    {
     "name": "stdout",
     "output_type": "stream",
     "text": [
      "\u001b[K\u001b[?25h\u001b[37;40mnpm\u001b[0m \u001b[0m\u001b[30;43mWARN\u001b[0m \u001b[0m\u001b[35mdeprecated\u001b[0m babel-preset-es2015@6.24.1: 🙌  Thanks for using Babel: we recommend using babel-preset-env now: please read babeljs.io/env to update! \n",
      "\u001b[K\u001b[?25h\u001b[37;40mnpm\u001b[0m \u001b[0m\u001b[34;40mnotice\u001b[0m \u001b[0m\u001b[35msave\u001b[0m babel-cli is being moved from dependencies to devDependencies\n",
      "\u001b[K\u001b[?25h\u001b[37;40mnpm\u001b[0m \u001b[0m\u001b[30;43mWARN\u001b[0m\u001b[35m\u001b[0m jovyan@1.0.0 No description \u001b[35msave\u001b[0m babel-cli is being moved from d\u001b[0m\u001b[K\n",
      "\u001b[0m\u001b[37;40mnpm\u001b[0m \u001b[0m\u001b[30;43mWARN\u001b[0m\u001b[35m\u001b[0m jovyan@1.0.0 No repository field.\n",
      "\u001b[0m\u001b[37;40mnpm\u001b[0m \u001b[0m\u001b[30;43mWARN\u001b[0m \u001b[0m\u001b[35moptional\u001b[0m SKIPPING OPTIONAL DEPENDENCY: fsevents@1.2.7 (node_modules/fsevents):\n",
      "\u001b[0m\u001b[37;40mnpm\u001b[0m \u001b[0m\u001b[30;43mWARN\u001b[0m \u001b[0m\u001b[35mnotsup\u001b[0m SKIPPING OPTIONAL DEPENDENCY: Unsupported platform for fsevents@1.2.7: wanted {\"os\":\"darwin\",\"arch\":\"any\"} (current: {\"os\":\"linux\",\"arch\":\"x64\"})\n",
      "\u001b[0m\n",
      "\u001b[K\u001b[?25h+ babel-cli@6.26.0......\u001b[0m] - postinstall: \u001b[30;43mWARN\u001b[0m \u001b[35mnotsup\u001b[0m SKIPPING OPTIONAL DEPENDENCY: U\u001b[0m\u001b[K[0m\u001b[K\n",
      "+ babel-preset-es2015@6.24.1\n",
      "updated 2 packages and audited 3239 packages in 5.274s\n",
      "found 1 \u001b[1mlow\u001b[0m severity vulnerability\n",
      "  run `npm audit fix` to fix them, or `npm audit` for details\n"
     ]
    }
   ],
   "source": [
    "!npm install --save-dev babel-cli babel-preset-es2015"
   ]
  },
  {
   "cell_type": "code",
   "execution_count": 11,
   "metadata": {},
   "outputs": [
    {
     "name": "stdout",
     "output_type": "stream",
     "text": [
      "{ [Function: Canvas] _registerFont: \u001b[36m[Function: _registerFont]\u001b[39m }\n",
      "{ [Function: Canvas] _registerFont: \u001b[36m[Function: _registerFont]\u001b[39m }\n",
      "{ [Function: Canvas] _registerFont: \u001b[36m[Function: _registerFont]\u001b[39m }\n",
      "{ [Function: Canvas] _registerFont: \u001b[36m[Function: _registerFont]\u001b[39m }\n",
      "{ [Function: Canvas] _registerFont: \u001b[36m[Function: _registerFont]\u001b[39m }\n",
      "{ [Function: Canvas] _registerFont: \u001b[36m[Function: _registerFont]\u001b[39m }\n",
      "{ [Function: Canvas] _registerFont: \u001b[36m[Function: _registerFont]\u001b[39m }\n",
      "{ [Function: Canvas] _registerFont: \u001b[36m[Function: _registerFont]\u001b[39m }\n",
      "{ [Function: Canvas] _registerFont: \u001b[36m[Function: _registerFont]\u001b[39m }\n",
      "{ [Function: Canvas] _registerFont: \u001b[36m[Function: _registerFont]\u001b[39m }\n",
      "{ [Function: Canvas] _registerFont: \u001b[36m[Function: _registerFont]\u001b[39m }\n",
      "{ [Function: Canvas] _registerFont: \u001b[36m[Function: _registerFont]\u001b[39m }\n",
      "{ [Function: Canvas] _registerFont: \u001b[36m[Function: _registerFont]\u001b[39m }\n",
      "{ [Function: Canvas] _registerFont: \u001b[36m[Function: _registerFont]\u001b[39m }\n",
      "{ [Function: Canvas] _registerFont: \u001b[36m[Function: _registerFont]\u001b[39m }\n",
      "{ [Function: Canvas] _registerFont: \u001b[36m[Function: _registerFont]\u001b[39m }\n",
      "{ [Function: Canvas] _registerFont: \u001b[36m[Function: _registerFont]\u001b[39m }\n",
      "{ [Function: Canvas] _registerFont: \u001b[36m[Function: _registerFont]\u001b[39m }\n",
      "{ [Function: Canvas] _registerFont: \u001b[36m[Function: _registerFont]\u001b[39m }\n",
      "{ [Function: Canvas] _registerFont: \u001b[36m[Function: _registerFont]\u001b[39m }\n",
      "{ [Function: Canvas] _registerFont: \u001b[36m[Function: _registerFont]\u001b[39m }\n",
      "{ [Function: Canvas] _registerFont: \u001b[36m[Function: _registerFont]\u001b[39m }\n",
      "{ [Function: Canvas] _registerFont: \u001b[36m[Function: _registerFont]\u001b[39m }\n",
      "{ [Function: Canvas] _registerFont: \u001b[36m[Function: _registerFont]\u001b[39m }\n",
      "{ [Function: Canvas] _registerFont: \u001b[36m[Function: _registerFont]\u001b[39m }\n",
      "{ [Function: Canvas] _registerFont: \u001b[36m[Function: _registerFont]\u001b[39m }\n",
      "{ [Function: Canvas] _registerFont: \u001b[36m[Function: _registerFont]\u001b[39m }\n",
      "{ [Function: Canvas] _registerFont: \u001b[36m[Function: _registerFont]\u001b[39m }\n",
      "{ [Function: Canvas] _registerFont: \u001b[36m[Function: _registerFont]\u001b[39m }\n",
      "{ [Function: Canvas] _registerFont: \u001b[36m[Function: _registerFont]\u001b[39m }\n",
      "{ [Function: Canvas] _registerFont: \u001b[36m[Function: _registerFont]\u001b[39m }\n",
      "{ [Function: Canvas] _registerFont: \u001b[36m[Function: _registerFont]\u001b[39m }\n",
      "{ [Function: Canvas] _registerFont: \u001b[36m[Function: _registerFont]\u001b[39m }\n",
      "{ [Function: Canvas] _registerFont: \u001b[36m[Function: _registerFont]\u001b[39m }\n",
      "{ [Function: Canvas] _registerFont: \u001b[36m[Function: _registerFont]\u001b[39m }\n",
      "{ [Function: Canvas] _registerFont: \u001b[36m[Function: _registerFont]\u001b[39m }\n",
      "{ [Function: Canvas] _registerFont: \u001b[36m[Function: _registerFont]\u001b[39m }\n",
      "{ [Function: Canvas] _registerFont: \u001b[36m[Function: _registerFont]\u001b[39m }\n",
      "{ [Function: Canvas] _registerFont: \u001b[36m[Function: _registerFont]\u001b[39m }\n",
      "{ [Function: Canvas] _registerFont: \u001b[36m[Function: _registerFont]\u001b[39m }\n",
      "{ [Function: Canvas] _registerFont: \u001b[36m[Function: _registerFont]\u001b[39m }\n",
      "{ [Function: Canvas] _registerFont: \u001b[36m[Function: _registerFont]\u001b[39m }\n",
      "{ [Function: Canvas] _registerFont: \u001b[36m[Function: _registerFont]\u001b[39m }\n",
      "{ [Function: Canvas] _registerFont: \u001b[36m[Function: _registerFont]\u001b[39m }\n",
      "{ [Function: Canvas] _registerFont: \u001b[36m[Function: _registerFont]\u001b[39m }\n",
      "{ [Function: Canvas] _registerFont: \u001b[36m[Function: _registerFont]\u001b[39m }\n",
      "{ [Function: Canvas] _registerFont: \u001b[36m[Function: _registerFont]\u001b[39m }\n",
      "{ [Function: Canvas] _registerFont: \u001b[36m[Function: _registerFont]\u001b[39m }\n",
      "{ [Function: Canvas] _registerFont: \u001b[36m[Function: _registerFont]\u001b[39m }\n",
      "{ [Function: Canvas] _registerFont: \u001b[36m[Function: _registerFont]\u001b[39m }\n",
      "{ [Function: Canvas] _registerFont: \u001b[36m[Function: _registerFont]\u001b[39m }\n",
      "{ [Function: Canvas] _registerFont: \u001b[36m[Function: _registerFont]\u001b[39m }\n",
      "{ [Function: Canvas] _registerFont: \u001b[36m[Function: _registerFont]\u001b[39m }\n",
      "{ [Function: Canvas] _registerFont: \u001b[36m[Function: _registerFont]\u001b[39m }\n",
      "{ [Function: Canvas] _registerFont: \u001b[36m[Function: _registerFont]\u001b[39m }\n",
      "{ [Function: Canvas] _registerFont: \u001b[36m[Function: _registerFont]\u001b[39m }\n",
      "{ [Function: Canvas] _registerFont: \u001b[36m[Function: _registerFont]\u001b[39m }\n",
      "{ [Function: Canvas] _registerFont: \u001b[36m[Function: _registerFont]\u001b[39m }\n",
      "{ [Function: Canvas] _registerFont: \u001b[36m[Function: _registerFont]\u001b[39m }\n",
      "{ [Function: Canvas] _registerFont: \u001b[36m[Function: _registerFont]\u001b[39m }\n",
      "{ [Function: Canvas] _registerFont: \u001b[36m[Function: _registerFont]\u001b[39m }\n",
      "{ [Function: Canvas] _registerFont: \u001b[36m[Function: _registerFont]\u001b[39m }\n",
      "{ [Function: Canvas] _registerFont: \u001b[36m[Function: _registerFont]\u001b[39m }\n",
      "{ [Function: Canvas] _registerFont: \u001b[36m[Function: _registerFont]\u001b[39m }\n",
      "{ [Function: Canvas] _registerFont: \u001b[36m[Function: _registerFont]\u001b[39m }\n",
      "{ [Function: Canvas] _registerFont: \u001b[36m[Function: _registerFont]\u001b[39m }\n",
      "{ [Function: Canvas] _registerFont: \u001b[36m[Function: _registerFont]\u001b[39m }\n",
      "{ [Function: Canvas] _registerFont: \u001b[36m[Function: _registerFont]\u001b[39m }\n",
      "{ [Function: Canvas] _registerFont: \u001b[36m[Function: _registerFont]\u001b[39m }\n",
      "{ [Function: Canvas] _registerFont: \u001b[36m[Function: _registerFont]\u001b[39m }\n",
      "{ [Function: Canvas] _registerFont: \u001b[36m[Function: _registerFont]\u001b[39m }\n",
      "{ [Function: Canvas] _registerFont: \u001b[36m[Function: _registerFont]\u001b[39m }\n",
      "{ [Function: Canvas] _registerFont: \u001b[36m[Function: _registerFont]\u001b[39m }\n",
      "{ [Function: Canvas] _registerFont: \u001b[36m[Function: _registerFont]\u001b[39m }\n",
      "{ [Function: Canvas] _registerFont: \u001b[36m[Function: _registerFont]\u001b[39m }\n",
      "{ [Function: Canvas] _registerFont: \u001b[36m[Function: _registerFont]\u001b[39m }\n",
      "{ [Function: Canvas] _registerFont: \u001b[36m[Function: _registerFont]\u001b[39m }\n",
      "{ [Function: Canvas] _registerFont: \u001b[36m[Function: _registerFont]\u001b[39m }\n",
      "{ [Function: Canvas] _registerFont: \u001b[36m[Function: _registerFont]\u001b[39m }\n",
      "{ [Function: Canvas] _registerFont: \u001b[36m[Function: _registerFont]\u001b[39m }\n",
      "{ [Function: Canvas] _registerFont: \u001b[36m[Function: _registerFont]\u001b[39m }\n",
      "{ [Function: Canvas] _registerFont: \u001b[36m[Function: _registerFont]\u001b[39m }\n",
      "{ [Function: Canvas] _registerFont: \u001b[36m[Function: _registerFont]\u001b[39m }\n",
      "{ [Function: Canvas] _registerFont: \u001b[36m[Function: _registerFont]\u001b[39m }\n",
      "{ [Function: Canvas] _registerFont: \u001b[36m[Function: _registerFont]\u001b[39m }\n",
      "{ [Function: Canvas] _registerFont: \u001b[36m[Function: _registerFont]\u001b[39m }\n",
      "{ [Function: Canvas] _registerFont: \u001b[36m[Function: _registerFont]\u001b[39m }\n",
      "{ [Function: Canvas] _registerFont: \u001b[36m[Function: _registerFont]\u001b[39m }\n"
     ]
    }
   ],
   "source": [
    "!node_modules/.bin/babel --presets es2015 index.js | node"
   ]
  },
  {
   "cell_type": "code",
   "execution_count": 12,
   "metadata": {},
   "outputs": [
    {
     "name": "stdout",
     "output_type": "stream",
     "text": [
      "CandlestickPlotterTest.ipynb  result-1000026-H.png  result-1000058-B.png\r\n",
      "index.js\t\t      result-1000027-H.png  result-1000059-S.png\r\n",
      "node_modules\t\t      result-1000028-H.png  result-1000060-H.png\r\n",
      "ohlc.csv\t\t      result-1000029-H.png  result-1000061-H.png\r\n",
      "package.json\t\t      result-1000030-H.png  result-1000062-H.png\r\n",
      "package-lock.json\t      result-1000031-H.png  result-1000063-H.png\r\n",
      "result-1000000-H.png\t      result-1000032-H.png  result-1000064-H.png\r\n",
      "result-1000001-H.png\t      result-1000033-H.png  result-1000065-B.png\r\n",
      "result-1000002-H.png\t      result-1000034-H.png  result-1000066-H.png\r\n",
      "result-1000003-H.png\t      result-1000035-H.png  result-1000067-H.png\r\n",
      "result-1000004-H.png\t      result-1000036-H.png  result-1000068-S.png\r\n",
      "result-1000005-S.png\t      result-1000037-H.png  result-1000069-H.png\r\n",
      "result-1000006-H.png\t      result-1000038-H.png  result-1000070-H.png\r\n",
      "result-1000007-H.png\t      result-1000039-S.png  result-1000071-H.png\r\n",
      "result-1000008-H.png\t      result-1000040-H.png  result-1000072-H.png\r\n",
      "result-1000009-H.png\t      result-1000041-S.png  result-1000073-B.png\r\n",
      "result-1000010-H.png\t      result-1000042-B.png  result-1000074-H.png\r\n",
      "result-1000011-H.png\t      result-1000043-H.png  result-1000075-B.png\r\n",
      "result-1000012-H.png\t      result-1000044-H.png  result-1000076-B.png\r\n",
      "result-1000013-H.png\t      result-1000045-H.png  result-1000077-H.png\r\n",
      "result-1000014-H.png\t      result-1000046-H.png  result-1000078-H.png\r\n",
      "result-1000015-H.png\t      result-1000047-H.png  result-1000079-H.png\r\n",
      "result-1000016-H.png\t      result-1000048-H.png  result-1000080-H.png\r\n",
      "result-1000017-H.png\t      result-1000049-S.png  result-1000081-B.png\r\n",
      "result-1000018-H.png\t      result-1000050-H.png  result-1000082-B.png\r\n",
      "result-1000019-H.png\t      result-1000051-H.png  result-1000083-H.png\r\n",
      "result-1000020-H.png\t      result-1000052-H.png  result-1000084-H.png\r\n",
      "result-1000021-H.png\t      result-1000053-H.png  result-1000085-S.png\r\n",
      "result-1000022-S.png\t      result-1000054-H.png  result-1000086-H.png\r\n",
      "result-1000023-H.png\t      result-1000055-H.png  result-1000087-H.png\r\n",
      "result-1000024-H.png\t      result-1000056-B.png\r\n",
      "result-1000025-H.png\t      result-1000057-H.png\r\n"
     ]
    }
   ],
   "source": [
    "!ls"
   ]
  },
  {
   "cell_type": "markdown",
   "metadata": {},
   "source": [
    "![title](result-1000025-H.png)\n",
    "![title](result-1000026-H.png)\n",
    "![title](result-1000027-H.png)\n",
    "![title](result-1000028-H.png)\n",
    "![title](result-1000029-H.png)\n",
    "![title](result-1000030-H.png)"
   ]
  },
  {
   "cell_type": "code",
   "execution_count": null,
   "metadata": {},
   "outputs": [],
   "source": []
  }
 ],
 "metadata": {
  "kernelspec": {
   "display_name": "Python 3",
   "language": "python",
   "name": "python3"
  },
  "language_info": {
   "codemirror_mode": {
    "name": "ipython",
    "version": 3
   },
   "file_extension": ".py",
   "mimetype": "text/x-python",
   "name": "python",
   "nbconvert_exporter": "python",
   "pygments_lexer": "ipython3",
   "version": "3.7.1"
  }
 },
 "nbformat": 4,
 "nbformat_minor": 2
}
