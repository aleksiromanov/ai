{
 "cells": [
  {
   "cell_type": "code",
   "execution_count": 2,
   "metadata": {},
   "outputs": [
    {
     "name": "stdout",
     "output_type": "stream",
     "text": [
      "Requirement already satisfied: oandapy in /opt/conda/lib/python3.7/site-packages (0.0.9)\n",
      "Requirement already satisfied: python-status in /opt/conda/lib/python3.7/site-packages (from oandapy) (1.0.1)\n",
      "Requirement already satisfied: requests in /opt/conda/lib/python3.7/site-packages (from oandapy) (2.21.0)\n",
      "Requirement already satisfied: pysimplemodel==2.3.3 in /opt/conda/lib/python3.7/site-packages (from oandapy) (2.3.3)\n",
      "Requirement already satisfied: certifi>=2017.4.17 in /opt/conda/lib/python3.7/site-packages (from requests->oandapy) (2018.11.29)\n",
      "Requirement already satisfied: idna<2.9,>=2.5 in /opt/conda/lib/python3.7/site-packages (from requests->oandapy) (2.8)\n",
      "Requirement already satisfied: chardet<3.1.0,>=3.0.2 in /opt/conda/lib/python3.7/site-packages (from requests->oandapy) (3.0.4)\n",
      "Requirement already satisfied: urllib3<1.25,>=1.21.1 in /opt/conda/lib/python3.7/site-packages (from requests->oandapy) (1.24.1)\n"
     ]
    },
    {
     "ename": "TypeError",
     "evalue": "get_account_summary() got an unexpected keyword argument 'environment'",
     "output_type": "error",
     "traceback": [
      "\u001b[0;31m---------------------------------------------------------------------------\u001b[0m",
      "\u001b[0;31mTypeError\u001b[0m                                 Traceback (most recent call last)",
      "\u001b[0;32m<ipython-input-2-13d086757248>\u001b[0m in \u001b[0;36m<module>\u001b[0;34m\u001b[0m\n\u001b[1;32m     16\u001b[0m \u001b[0moanda\u001b[0m \u001b[0;34m=\u001b[0m \u001b[0mAPIv20\u001b[0m\u001b[0;34m(\u001b[0m\u001b[0menvironment\u001b[0m\u001b[0;34m=\u001b[0m\u001b[0;34m\"practice\"\u001b[0m\u001b[0;34m,\u001b[0m \u001b[0maccess_token\u001b[0m\u001b[0;34m=\u001b[0m\u001b[0;34m\"XXXXXXXXXXXXXXXXXXXXXXXXXXX\"\u001b[0m\u001b[0;34m)\u001b[0m\u001b[0;34m\u001b[0m\u001b[0;34m\u001b[0m\u001b[0m\n\u001b[1;32m     17\u001b[0m \u001b[0;34m\u001b[0m\u001b[0m\n\u001b[0;32m---> 18\u001b[0;31m \u001b[0mr\u001b[0m \u001b[0;34m=\u001b[0m \u001b[0moanda\u001b[0m\u001b[0;34m.\u001b[0m\u001b[0maccount\u001b[0m\u001b[0;34m.\u001b[0m\u001b[0mget_account_summary\u001b[0m\u001b[0;34m(\u001b[0m\u001b[0maccount_id\u001b[0m\u001b[0;34m=\u001b[0m\u001b[0;34m'XXXXX'\u001b[0m\u001b[0;34m,\u001b[0m \u001b[0menvironment\u001b[0m\u001b[0;34m=\u001b[0m\u001b[0;34m'practice'\u001b[0m\u001b[0;34m)\u001b[0m\u001b[0;34m\u001b[0m\u001b[0;34m\u001b[0m\u001b[0m\n\u001b[0m\u001b[1;32m     19\u001b[0m \u001b[0mprint\u001b[0m\u001b[0;34m(\u001b[0m\u001b[0mr\u001b[0m\u001b[0;34m.\u001b[0m\u001b[0mraw\u001b[0m\u001b[0;34m)\u001b[0m\u001b[0;34m\u001b[0m\u001b[0;34m\u001b[0m\u001b[0m\n\u001b[1;32m     20\u001b[0m \u001b[0;34m\u001b[0m\u001b[0m\n",
      "\u001b[0;31mTypeError\u001b[0m: get_account_summary() got an unexpected keyword argument 'environment'"
     ]
    }
   ],
   "source": [
    "%reload_ext autoreload\n",
    "%autoreload 2\n",
    "%matplotlib inline\n",
    "\n",
    "from fastai.imports import *\n",
    "\n",
    "!pip install oandapy \n",
    "\n",
    "# JupyterNB dark theme plotting made visible\n",
    "plt.style.use(['dark_background'])\n",
    "\n",
    "\n",
    "\n",
    "from oandapy import APIv20\n",
    "from oandapy.exceptions import OandaError\n",
    "oanda = APIv20(environment=\"practice\", access_token=\"XXXXXXXXXXXXXXXXXXXXXXXXXXX\")\n",
    "\n",
    "r = oanda.account.get_account_summary(account_id='XXXXX', environment='practice')\n",
    "print(r.raw) \n",
    "\n",
    "#oanda.trades.get_trades(account_id='doublexx')\n"
   ]
  },
  {
   "cell_type": "code",
   "execution_count": 13,
   "metadata": {},
   "outputs": [
    {
     "ename": "TypeError",
     "evalue": "make_request() missing 2 required positional arguments: 'method_name' and 'endpoint'",
     "output_type": "error",
     "traceback": [
      "\u001b[0;31m---------------------------------------------------------------------------\u001b[0m",
      "\u001b[0;31mTypeError\u001b[0m                                 Traceback (most recent call last)",
      "\u001b[0;32m<ipython-input-13-bfe7ebbb62ed>\u001b[0m in \u001b[0;36m<module>\u001b[0;34m\u001b[0m\n\u001b[1;32m     12\u001b[0m     \u001b[0;31m#data = oanda.get_history(instrument=instrument, start=d1, end=d2, granularity=gr)\u001b[0m\u001b[0;34m\u001b[0m\u001b[0;34m\u001b[0m\u001b[0;34m\u001b[0m\u001b[0m\n\u001b[1;32m     13\u001b[0m     \u001b[0;31m#df = df.append(pd.DataFrame(data['candles']))\u001b[0m\u001b[0;34m\u001b[0m\u001b[0;34m\u001b[0m\u001b[0;34m\u001b[0m\u001b[0m\n\u001b[0;32m---> 14\u001b[0;31m     \u001b[0mresponse\u001b[0m \u001b[0;34m=\u001b[0m \u001b[0moanda\u001b[0m\u001b[0;34m.\u001b[0m\u001b[0mmake_request\u001b[0m\u001b[0;34m(\u001b[0m\u001b[0minstruments\u001b[0m\u001b[0;34m=\u001b[0m\u001b[0;34m\"EUR_USD\"\u001b[0m\u001b[0;34m)\u001b[0m\u001b[0;34m\u001b[0m\u001b[0;34m\u001b[0m\u001b[0m\n\u001b[0m\u001b[1;32m     15\u001b[0m     \u001b[0mprices\u001b[0m \u001b[0;34m=\u001b[0m \u001b[0mresponse\u001b[0m\u001b[0;34m.\u001b[0m\u001b[0mget\u001b[0m\u001b[0;34m(\u001b[0m\u001b[0;34m\"prices\"\u001b[0m\u001b[0;34m)\u001b[0m\u001b[0;34m\u001b[0m\u001b[0;34m\u001b[0m\u001b[0m\n\u001b[1;32m     16\u001b[0m     \u001b[0mprint\u001b[0m\u001b[0;34m(\u001b[0m\u001b[0mprices\u001b[0m\u001b[0;34m)\u001b[0m\u001b[0;34m\u001b[0m\u001b[0;34m\u001b[0m\u001b[0m\n",
      "\u001b[0;31mTypeError\u001b[0m: make_request() missing 2 required positional arguments: 'method_name' and 'endpoint'"
     ]
    }
   ],
   "source": [
    "d1 = '2018-01-09'\n",
    "d2 = '2018-02-28'\n",
    "gr = 'M1'\n",
    "instrument = 'GBP_USD'\n",
    "dates = pd.date_range(start=d1, end=d2, freq='B')\n",
    "\n",
    "for i in range(0, len(dates) -1):\n",
    "    d1 = str(dates[i]).replace(' ', 'T')\n",
    "    d2 = str(dates[i+1]).replace(' ', 'T')\n",
    "    #try:\n",
    "    #oanda.make_request(instrument=instrument, start=d1, end=d2, granularity=gr)\n",
    "    #data = oanda.get_history(instrument=instrument, start=d1, end=d2, granularity=gr)\n",
    "    #df = df.append(pd.DataFrame(data['candles']))\n",
    "    response = oanda.make_request(instruments=\"EUR_USD\")\n",
    "    prices = response.get(\"prices\")\n",
    "    print(prices)\n",
    "    #except:\n",
    "    #pass"
   ]
  }
 ],
 "metadata": {
  "kernelspec": {
   "display_name": "Python 3",
   "language": "python",
   "name": "python3"
  },
  "language_info": {
   "codemirror_mode": {
    "name": "ipython",
    "version": 3
   },
   "file_extension": ".py",
   "mimetype": "text/x-python",
   "name": "python",
   "nbconvert_exporter": "python",
   "pygments_lexer": "ipython3",
   "version": "3.7.1"
  }
 },
 "nbformat": 4,
 "nbformat_minor": 2
}
