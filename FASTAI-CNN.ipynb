{
 "cells": [
  {
   "cell_type": "markdown",
   "metadata": {},
   "source": [
    "# Training with the Fastai's CNN"
   ]
  },
  {
   "cell_type": "code",
   "execution_count": 79,
   "metadata": {},
   "outputs": [
    {
     "name": "stdout",
     "output_type": "stream",
     "text": [
      "Using Python 3.7.1\n",
      "\n",
      "Current directory /home/jovyan/work\n",
      "\n",
      "Available image data folders:\n",
      "44M\tdata/images/chiffon\n",
      "67M\tdata/images/denim\n",
      "84M\tdata/images/faux_fur\n",
      "60M\tdata/images/faux_leather\n",
      "73M\tdata/images/lace\n",
      "56M\tdata/images/linen\n",
      "66M\tdata/images/satin\n",
      "124M\tdata/images/sequin\n",
      "54M\tdata/images/velvet\n"
     ]
    }
   ],
   "source": [
    "!echo Using `python --version`\n",
    "!echo\n",
    "!echo Current directory `pwd`\n",
    "!echo\n",
    "!echo Available image data folders:\n",
    "!du -sh data/images/*"
   ]
  },
  {
   "cell_type": "code",
   "execution_count": 81,
   "metadata": {},
   "outputs": [],
   "source": [
    "from pathlib import Path\n",
    "from random import shuffle\n",
    "import pandas as pd"
   ]
  },
  {
   "cell_type": "markdown",
   "metadata": {},
   "source": [
    "## 1. Make a dataframe"
   ]
  },
  {
   "cell_type": "code",
   "execution_count": 95,
   "metadata": {},
   "outputs": [],
   "source": [
    "# A regular list of some images\n",
    "\n",
    "fpaths = list(Path('./data/images/').rglob('*.jpg'))\n",
    "fstems = [fp.stem for fp in fpaths]"
   ]
  },
  {
   "cell_type": "code",
   "execution_count": 97,
   "metadata": {},
   "outputs": [
    {
     "data": {
      "text/html": [
       "<div>\n",
       "<style scoped>\n",
       "    .dataframe tbody tr th:only-of-type {\n",
       "        vertical-align: middle;\n",
       "    }\n",
       "\n",
       "    .dataframe tbody tr th {\n",
       "        vertical-align: top;\n",
       "    }\n",
       "\n",
       "    .dataframe thead th {\n",
       "        text-align: right;\n",
       "    }\n",
       "</style>\n",
       "<table border=\"1\" class=\"dataframe\">\n",
       "  <thead>\n",
       "    <tr style=\"text-align: right;\">\n",
       "      <th></th>\n",
       "      <th>fpaths</th>\n",
       "      <th>fstems</th>\n",
       "    </tr>\n",
       "  </thead>\n",
       "  <tbody>\n",
       "    <tr>\n",
       "      <th>0</th>\n",
       "      <td>data/images/denim/00000343.jpg</td>\n",
       "      <td>00000343</td>\n",
       "    </tr>\n",
       "    <tr>\n",
       "      <th>1</th>\n",
       "      <td>data/images/denim/00000076.jpg</td>\n",
       "      <td>00000076</td>\n",
       "    </tr>\n",
       "    <tr>\n",
       "      <th>2</th>\n",
       "      <td>data/images/denim/00000170.jpg</td>\n",
       "      <td>00000170</td>\n",
       "    </tr>\n",
       "    <tr>\n",
       "      <th>3</th>\n",
       "      <td>data/images/denim/00000103.jpg</td>\n",
       "      <td>00000103</td>\n",
       "    </tr>\n",
       "    <tr>\n",
       "      <th>4</th>\n",
       "      <td>data/images/denim/00000069.jpg</td>\n",
       "      <td>00000069</td>\n",
       "    </tr>\n",
       "  </tbody>\n",
       "</table>\n",
       "</div>"
      ],
      "text/plain": [
       "                           fpaths    fstems\n",
       "0  data/images/denim/00000343.jpg  00000343\n",
       "1  data/images/denim/00000076.jpg  00000076\n",
       "2  data/images/denim/00000170.jpg  00000170\n",
       "3  data/images/denim/00000103.jpg  00000103\n",
       "4  data/images/denim/00000069.jpg  00000069"
      ]
     },
     "execution_count": 97,
     "metadata": {},
     "output_type": "execute_result"
    }
   ],
   "source": [
    "# Series of the same images\n",
    "\n",
    "df = pd.concat([pd.Series(fpaths, name='fpaths'), \n",
    "                pd.Series(fstems, name='fstems')], \n",
    "               axis=1)\n",
    "df.head()"
   ]
  },
  {
   "cell_type": "code",
   "execution_count": 98,
   "metadata": {},
   "outputs": [
    {
     "data": {
      "text/html": [
       "<div>\n",
       "<style scoped>\n",
       "    .dataframe tbody tr th:only-of-type {\n",
       "        vertical-align: middle;\n",
       "    }\n",
       "\n",
       "    .dataframe tbody tr th {\n",
       "        vertical-align: top;\n",
       "    }\n",
       "\n",
       "    .dataframe thead th {\n",
       "        text-align: right;\n",
       "    }\n",
       "</style>\n",
       "<table border=\"1\" class=\"dataframe\">\n",
       "  <thead>\n",
       "    <tr style=\"text-align: right;\">\n",
       "      <th></th>\n",
       "      <th>fpaths</th>\n",
       "      <th>fstems</th>\n",
       "    </tr>\n",
       "  </thead>\n",
       "  <tbody>\n",
       "    <tr>\n",
       "      <th>0</th>\n",
       "      <td>data/images/denim/00000343.jpg</td>\n",
       "      <td>00000343</td>\n",
       "    </tr>\n",
       "    <tr>\n",
       "      <th>1</th>\n",
       "      <td>data/images/denim/00000076.jpg</td>\n",
       "      <td>00000076</td>\n",
       "    </tr>\n",
       "    <tr>\n",
       "      <th>2</th>\n",
       "      <td>data/images/denim/00000170.jpg</td>\n",
       "      <td>00000170</td>\n",
       "    </tr>\n",
       "    <tr>\n",
       "      <th>3</th>\n",
       "      <td>data/images/denim/00000103.jpg</td>\n",
       "      <td>00000103</td>\n",
       "    </tr>\n",
       "    <tr>\n",
       "      <th>4</th>\n",
       "      <td>data/images/denim/00000069.jpg</td>\n",
       "      <td>00000069</td>\n",
       "    </tr>\n",
       "  </tbody>\n",
       "</table>\n",
       "</div>"
      ],
      "text/plain": [
       "                           fpaths    fstems\n",
       "0  data/images/denim/00000343.jpg  00000343\n",
       "1  data/images/denim/00000076.jpg  00000076\n",
       "2  data/images/denim/00000170.jpg  00000170\n",
       "3  data/images/denim/00000103.jpg  00000103\n",
       "4  data/images/denim/00000069.jpg  00000069"
      ]
     },
     "execution_count": 98,
     "metadata": {},
     "output_type": "execute_result"
    }
   ],
   "source": [
    "# Convert 'fpaths' column from the object-type the string \n",
    "\n",
    "df['fpaths'] = df['fpaths'].apply(lambda x: str(x))\n",
    "df.head()"
   ]
  },
  {
   "cell_type": "code",
   "execution_count": 85,
   "metadata": {},
   "outputs": [
    {
     "data": {
      "text/html": [
       "<div>\n",
       "<style scoped>\n",
       "    .dataframe tbody tr th:only-of-type {\n",
       "        vertical-align: middle;\n",
       "    }\n",
       "\n",
       "    .dataframe tbody tr th {\n",
       "        vertical-align: top;\n",
       "    }\n",
       "\n",
       "    .dataframe thead th {\n",
       "        text-align: right;\n",
       "    }\n",
       "</style>\n",
       "<table border=\"1\" class=\"dataframe\">\n",
       "  <thead>\n",
       "    <tr style=\"text-align: right;\">\n",
       "      <th></th>\n",
       "      <th>fstems</th>\n",
       "      <th>fpaths</th>\n",
       "      <th>label</th>\n",
       "    </tr>\n",
       "  </thead>\n",
       "  <tbody>\n",
       "    <tr>\n",
       "      <th>0</th>\n",
       "      <td>00000350</td>\n",
       "      <td>data/images/sequin/00000350.jpg</td>\n",
       "      <td>sequin</td>\n",
       "    </tr>\n",
       "    <tr>\n",
       "      <th>1</th>\n",
       "      <td>00000472</td>\n",
       "      <td>data/images/lace/00000472.jpg</td>\n",
       "      <td>lace</td>\n",
       "    </tr>\n",
       "    <tr>\n",
       "      <th>2</th>\n",
       "      <td>00000203</td>\n",
       "      <td>data/images/velvet/00000203.jpg</td>\n",
       "      <td>velvet</td>\n",
       "    </tr>\n",
       "    <tr>\n",
       "      <th>3</th>\n",
       "      <td>00000325</td>\n",
       "      <td>data/images/satin/00000325.jpg</td>\n",
       "      <td>satin</td>\n",
       "    </tr>\n",
       "    <tr>\n",
       "      <th>4</th>\n",
       "      <td>00000380</td>\n",
       "      <td>data/images/denim/00000380.jpg</td>\n",
       "      <td>denim</td>\n",
       "    </tr>\n",
       "  </tbody>\n",
       "</table>\n",
       "</div>"
      ],
      "text/plain": [
       "     fstems                           fpaths   label\n",
       "0  00000350  data/images/sequin/00000350.jpg  sequin\n",
       "1  00000472    data/images/lace/00000472.jpg    lace\n",
       "2  00000203  data/images/velvet/00000203.jpg  velvet\n",
       "3  00000325   data/images/satin/00000325.jpg   satin\n",
       "4  00000380   data/images/denim/00000380.jpg   denim"
      ]
     },
     "execution_count": 85,
     "metadata": {},
     "output_type": "execute_result"
    }
   ],
   "source": [
    "# Make *label* column\n",
    "\n",
    "df['label'] = df['fpaths'].str.split('/', expand=True)[2]\n",
    "df.head()"
   ]
  },
  {
   "cell_type": "code",
   "execution_count": 99,
   "metadata": {},
   "outputs": [
    {
     "name": "stdout",
     "output_type": "stream",
     "text": [
      ",fpaths,fstems\r\n",
      "0,data/images/denim/00000343.jpg,00000343\r\n",
      "1,data/images/denim/00000076.jpg,00000076\r\n",
      "2,data/images/denim/00000170.jpg,00000170\r\n",
      "3,data/images/denim/00000103.jpg,00000103\r\n",
      "4,data/images/denim/00000069.jpg,00000069\r\n",
      "5,data/images/denim/00000182.jpg,00000182\r\n",
      "6,data/images/denim/00000019.jpg,00000019\r\n",
      "7,data/images/denim/00000434.jpg,00000434\r\n",
      "8,data/images/denim/00000092.jpg,00000092\r\n"
     ]
    }
   ],
   "source": [
    "# Export the dataframe to a csv file\n",
    "\n",
    "df.to_csv('/tmp/mydataframe.csv')\n",
    "!head /tmp/mydataframe.csv"
   ]
  },
  {
   "cell_type": "code",
   "execution_count": 100,
   "metadata": {},
   "outputs": [
    {
     "data": {
      "text/html": [
       "<div>\n",
       "<style scoped>\n",
       "    .dataframe tbody tr th:only-of-type {\n",
       "        vertical-align: middle;\n",
       "    }\n",
       "\n",
       "    .dataframe tbody tr th {\n",
       "        vertical-align: top;\n",
       "    }\n",
       "\n",
       "    .dataframe thead th {\n",
       "        text-align: right;\n",
       "    }\n",
       "</style>\n",
       "<table border=\"1\" class=\"dataframe\">\n",
       "  <thead>\n",
       "    <tr style=\"text-align: right;\">\n",
       "      <th></th>\n",
       "      <th>Unnamed: 0</th>\n",
       "      <th>fpaths</th>\n",
       "      <th>fstems</th>\n",
       "    </tr>\n",
       "  </thead>\n",
       "  <tbody>\n",
       "    <tr>\n",
       "      <th>0</th>\n",
       "      <td>0</td>\n",
       "      <td>data/images/denim/00000343.jpg</td>\n",
       "      <td>343</td>\n",
       "    </tr>\n",
       "    <tr>\n",
       "      <th>1</th>\n",
       "      <td>1</td>\n",
       "      <td>data/images/denim/00000076.jpg</td>\n",
       "      <td>76</td>\n",
       "    </tr>\n",
       "    <tr>\n",
       "      <th>2</th>\n",
       "      <td>2</td>\n",
       "      <td>data/images/denim/00000170.jpg</td>\n",
       "      <td>170</td>\n",
       "    </tr>\n",
       "    <tr>\n",
       "      <th>3</th>\n",
       "      <td>3</td>\n",
       "      <td>data/images/denim/00000103.jpg</td>\n",
       "      <td>103</td>\n",
       "    </tr>\n",
       "    <tr>\n",
       "      <th>4</th>\n",
       "      <td>4</td>\n",
       "      <td>data/images/denim/00000069.jpg</td>\n",
       "      <td>69</td>\n",
       "    </tr>\n",
       "  </tbody>\n",
       "</table>\n",
       "</div>"
      ],
      "text/plain": [
       "   Unnamed: 0                          fpaths  fstems\n",
       "0           0  data/images/denim/00000343.jpg     343\n",
       "1           1  data/images/denim/00000076.jpg      76\n",
       "2           2  data/images/denim/00000170.jpg     170\n",
       "3           3  data/images/denim/00000103.jpg     103\n",
       "4           4  data/images/denim/00000069.jpg      69"
      ]
     },
     "execution_count": 100,
     "metadata": {},
     "output_type": "execute_result"
    }
   ],
   "source": [
    "# Import the csv to the dataframe\n",
    "\n",
    "df = pd.read_csv('/tmp/mydataframe.csv')\n",
    "df.head()"
   ]
  },
  {
   "cell_type": "markdown",
   "metadata": {},
   "source": [
    "## 2. Make a databunch (a set of datasets and dataloaders)"
   ]
  },
  {
   "cell_type": "code",
   "execution_count": null,
   "metadata": {},
   "outputs": [],
   "source": []
  }
 ],
 "metadata": {
  "kernelspec": {
   "display_name": "Python 3",
   "language": "python",
   "name": "python3"
  },
  "language_info": {
   "codemirror_mode": {
    "name": "ipython",
    "version": 3
   },
   "file_extension": ".py",
   "mimetype": "text/x-python",
   "name": "python",
   "nbconvert_exporter": "python",
   "pygments_lexer": "ipython3",
   "version": "3.7.1"
  }
 },
 "nbformat": 4,
 "nbformat_minor": 2
}
