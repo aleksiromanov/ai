{
 "cells": [
  {
   "cell_type": "code",
   "execution_count": 45,
   "metadata": {},
   "outputs": [
    {
     "name": "stdout",
     "output_type": "stream",
     "text": [
      "Wrote to /home/jovyan/work/CandlestickPlotterTest/package.json:\r\n",
      "\r\n",
      "{\r\n",
      "  \"name\": \"CandlestickPlotterTest\",\r\n",
      "  \"version\": \"1.0.0\",\r\n",
      "  \"main\": \"index.js\",\r\n",
      "  \"scripts\": {\r\n",
      "    \"test\": \"echo \\\"Error: no test specified\\\" && exit 1\"\r\n",
      "  },\r\n",
      "  \"keywords\": [],\r\n",
      "  \"author\": \"\",\r\n",
      "  \"license\": \"ISC\",\r\n",
      "  \"dependencies\": {\r\n",
      "    \"candlestick-plotter\": \"git+https://git@github.com/aleksiromanov/candlestick-plotter.git\"\r\n",
      "  },\r\n",
      "  \"devDependencies\": {\r\n",
      "    \"babel-cli\": \"^6.26.0\",\r\n",
      "    \"babel-preset-es2015\": \"^6.24.1\"\r\n",
      "  },\r\n",
      "  \"description\": \"\"\r\n",
      "}\r\n",
      "\r\n",
      "\r\n"
     ]
    }
   ],
   "source": [
    "!npm init --yes"
   ]
  },
  {
   "cell_type": "code",
   "execution_count": 46,
   "metadata": {},
   "outputs": [
    {
     "name": "stdout",
     "output_type": "stream",
     "text": [
      "\u001b[K\u001b[?25h\u001b[37;40mnpm\u001b[0m \u001b[0m\u001b[30;43mWARN\u001b[0m\u001b[35m\u001b[0m CandlestickPlotterTest@1.0.0 No description-plotter@1.0.0~po\u001b[0m\u001b[K\u001b[K\n",
      "\u001b[0m\u001b[37;40mnpm\u001b[0m \u001b[0m\u001b[30;43mWARN\u001b[0m\u001b[35m\u001b[0m CandlestickPlotterTest@1.0.0 No repository field.\n",
      "\u001b[0m\u001b[37;40mnpm\u001b[0m \u001b[0m\u001b[30;43mWARN\u001b[0m \u001b[0m\u001b[35moptional\u001b[0m SKIPPING OPTIONAL DEPENDENCY: fsevents@1.2.7 (node_modules/fsevents):\n",
      "\u001b[0m\u001b[37;40mnpm\u001b[0m \u001b[0m\u001b[30;43mWARN\u001b[0m \u001b[0m\u001b[35mnotsup\u001b[0m SKIPPING OPTIONAL DEPENDENCY: Unsupported platform for fsevents@1.2.7: wanted {\"os\":\"darwin\",\"arch\":\"any\"} (current: {\"os\":\"linux\",\"arch\":\"x64\"})\n",
      "\u001b[0m\n",
      "+ candlestick-plotter@1.0.0\n",
      "updated 1 package and audited 3239 packages in 11.347s\n",
      "found 1 \u001b[1mlow\u001b[0m severity vulnerability\n",
      "  run `npm audit fix` to fix them, or `npm audit` for details\n"
     ]
    }
   ],
   "source": [
    "!npm install -S git+https://git@github.com/aleksiromanov/candlestick-plotter.git"
   ]
  },
  {
   "cell_type": "code",
   "execution_count": 47,
   "metadata": {},
   "outputs": [
    {
     "name": "stdout",
     "output_type": "stream",
     "text": [
      "\u001b[K\u001b[?25h\u001b[37;40mnpm\u001b[0m \u001b[0m\u001b[30;43mWARN\u001b[0m \u001b[0m\u001b[35mdeprecated\u001b[0m babel-preset-es2015@6.24.1: 🙌  Thanks for using Babel: we recommend using babel-preset-env now: please read babeljs.io/env to update! \n",
      "\u001b[K\u001b[?25h\u001b[37;40mnpm\u001b[0m \u001b[0m\u001b[30;43mWARN\u001b[0m\u001b[35m\u001b[0m CandlestickPlotterTest@1.0.0 No descriptiont-es2015@6.24.1~p\u001b[0m\u001b[K\n",
      "\u001b[0m\u001b[37;40mnpm\u001b[0m \u001b[0m\u001b[30;43mWARN\u001b[0m\u001b[35m\u001b[0m CandlestickPlotterTest@1.0.0 No repository field.\n",
      "\u001b[0m\u001b[37;40mnpm\u001b[0m \u001b[0m\u001b[30;43mWARN\u001b[0m \u001b[0m\u001b[35moptional\u001b[0m SKIPPING OPTIONAL DEPENDENCY: fsevents@1.2.7 (node_modules/fsevents):\n",
      "\u001b[0m\u001b[37;40mnpm\u001b[0m \u001b[0m\u001b[30;43mWARN\u001b[0m \u001b[0m\u001b[35mnotsup\u001b[0m SKIPPING OPTIONAL DEPENDENCY: Unsupported platform for fsevents@1.2.7: wanted {\"os\":\"darwin\",\"arch\":\"any\"} (current: {\"os\":\"linux\",\"arch\":\"x64\"})\n",
      "\u001b[0m\n",
      "+ babel-cli@6.26.0\n",
      "+ babel-preset-es2015@6.24.1\n",
      "updated 2 packages and audited 3239 packages in 12.116s\n",
      "found 1 \u001b[1mlow\u001b[0m severity vulnerability\n",
      "  run `npm audit fix` to fix them, or `npm audit` for details\n"
     ]
    }
   ],
   "source": [
    "!npm install --save-dev babel-cli babel-preset-es2015"
   ]
  },
  {
   "cell_type": "code",
   "execution_count": 43,
   "metadata": {},
   "outputs": [],
   "source": [
    "!./node_modules/.bin/babel index.js --presets es2015 | node 2>&1 >/dev/null"
   ]
  },
  {
   "cell_type": "code",
   "execution_count": 52,
   "metadata": {},
   "outputs": [
    {
     "name": "stdout",
     "output_type": "stream",
     "text": [
      "40K\timages/B\r\n",
      "288K\timages/H\r\n",
      "36K\timages/S\r\n"
     ]
    }
   ],
   "source": [
    "!mkdir -p images/B images/S images/H\n",
    "!for i in B S H; do cp *-$i.png images/$i ; done\n",
    "!du -hs images/*"
   ]
  },
  {
   "cell_type": "code",
   "execution_count": null,
   "metadata": {},
   "outputs": [],
   "source": []
  }
 ],
 "metadata": {
  "kernelspec": {
   "display_name": "Python 3",
   "language": "python",
   "name": "python3"
  },
  "language_info": {
   "codemirror_mode": {
    "name": "ipython",
    "version": 3
   },
   "file_extension": ".py",
   "mimetype": "text/x-python",
   "name": "python",
   "nbconvert_exporter": "python",
   "pygments_lexer": "ipython3",
   "version": "3.7.1"
  }
 },
 "nbformat": 4,
 "nbformat_minor": 2
}
